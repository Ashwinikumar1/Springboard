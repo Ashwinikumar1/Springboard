{
 "cells": [
  {
   "cell_type": "code",
   "execution_count": 202,
   "metadata": {},
   "outputs": [],
   "source": [
    "import sys\n",
    "import numpy as np\n",
    "import pandas as pd\n",
    "import seaborn as sns\n",
    "import sklearn\n",
    "import matplotlib.pyplot as plt\n",
    "from time import time\n",
    "\n",
    "from sklearn.model_selection import train_test_split\n",
    "from sklearn.metrics import log_loss, accuracy_score, precision_score, recall_score, classification_report\n",
    "from sklearn.model_selection import StratifiedKFold\n",
    "from sklearn.model_selection import GridSearchCV, RandomizedSearchCV\n",
    "from sklearn.model_selection import validation_curve\n",
    "from sklearn.metrics import confusion_matrix\n",
    "\n",
    "from pprint import pprint\n",
    "\n",
    "# classifiers\n",
    "from sklearn.tree import DecisionTreeClassifier, export_graphviz\n",
    "from sklearn.ensemble import AdaBoostClassifier\n",
    "from sklearn.ensemble import GradientBoostingClassifier\n",
    "from xgboost import XGBClassifier\n",
    "import xgboost as xgb\n",
    "\n",
    "from scipy.stats import randint, uniform\n",
    "\n",
    "sns.set(font_scale = 1.25)\n",
    "# reproducibility\n",
    "seed = 142"
   ]
  },
  {
   "cell_type": "code",
   "execution_count": 181,
   "metadata": {},
   "outputs": [
    {
     "name": "stdout",
     "output_type": "stream",
     "text": [
      "3.6.8 |Anaconda, Inc.| (default, Feb 21 2019, 18:30:04) [MSC v.1916 64 bit (AMD64)]\n",
      "numpy: 1.18.1\n",
      "sklearn: 0.20.1\n",
      "xgboost: 1.1.1\n"
     ]
    }
   ],
   "source": [
    "#check requirements\n",
    "\n",
    "print(sys.version)\n",
    "print('numpy: {}'.format(np.version.version))\n",
    "print('sklearn: {}'.format(sklearn.__version__))\n",
    "print('xgboost: {}'.format(xgboost.__version__))"
   ]
  },
  {
   "cell_type": "markdown",
   "metadata": {},
   "source": [
    "### Data Exploration\n",
    "\n",
    "We will be working on **German Credit** data set. This dataset has two classes to describe the worthiness of a personal loan: \"Good\" or \"Bad\". There are 61 predictors related to their attributes.\n",
    "\n",
    "Many of these predictors are discrete and have been expanded into several 0/1 indicator variables (a.k.a. they have been one-hot-encoded).\n",
    "\n",
    "This dataset has been kindly provided by Professor Dr. Hans Hofmann of the University of Hamburg, and can also be found on the UCI Machine Learning Repository."
   ]
  },
  {
   "cell_type": "code",
   "execution_count": 186,
   "metadata": {},
   "outputs": [
    {
     "data": {
      "text/html": [
       "<div>\n",
       "<style scoped>\n",
       "    .dataframe tbody tr th:only-of-type {\n",
       "        vertical-align: middle;\n",
       "    }\n",
       "\n",
       "    .dataframe tbody tr th {\n",
       "        vertical-align: top;\n",
       "    }\n",
       "\n",
       "    .dataframe thead th {\n",
       "        text-align: right;\n",
       "    }\n",
       "</style>\n",
       "<table border=\"1\" class=\"dataframe\">\n",
       "  <thead>\n",
       "    <tr style=\"text-align: right;\">\n",
       "      <th></th>\n",
       "      <th>Duration</th>\n",
       "      <th>Amount</th>\n",
       "      <th>InstallmentRatePercentage</th>\n",
       "      <th>ResidenceDuration</th>\n",
       "      <th>Age</th>\n",
       "      <th>NumberExistingCredits</th>\n",
       "      <th>NumberPeopleMaintenance</th>\n",
       "      <th>Telephone</th>\n",
       "      <th>ForeignWorker</th>\n",
       "      <th>Class</th>\n",
       "      <th>...</th>\n",
       "      <th>OtherInstallmentPlans.Bank</th>\n",
       "      <th>OtherInstallmentPlans.Stores</th>\n",
       "      <th>OtherInstallmentPlans.None</th>\n",
       "      <th>Housing.Rent</th>\n",
       "      <th>Housing.Own</th>\n",
       "      <th>Housing.ForFree</th>\n",
       "      <th>Job.UnemployedUnskilled</th>\n",
       "      <th>Job.UnskilledResident</th>\n",
       "      <th>Job.SkilledEmployee</th>\n",
       "      <th>Job.Management.SelfEmp.HighlyQualified</th>\n",
       "    </tr>\n",
       "  </thead>\n",
       "  <tbody>\n",
       "    <tr>\n",
       "      <th>0</th>\n",
       "      <td>6</td>\n",
       "      <td>1169</td>\n",
       "      <td>4</td>\n",
       "      <td>4</td>\n",
       "      <td>67</td>\n",
       "      <td>2</td>\n",
       "      <td>1</td>\n",
       "      <td>0</td>\n",
       "      <td>1</td>\n",
       "      <td>Good</td>\n",
       "      <td>...</td>\n",
       "      <td>0</td>\n",
       "      <td>0</td>\n",
       "      <td>1</td>\n",
       "      <td>0</td>\n",
       "      <td>1</td>\n",
       "      <td>0</td>\n",
       "      <td>0</td>\n",
       "      <td>0</td>\n",
       "      <td>1</td>\n",
       "      <td>0</td>\n",
       "    </tr>\n",
       "    <tr>\n",
       "      <th>1</th>\n",
       "      <td>48</td>\n",
       "      <td>5951</td>\n",
       "      <td>2</td>\n",
       "      <td>2</td>\n",
       "      <td>22</td>\n",
       "      <td>1</td>\n",
       "      <td>1</td>\n",
       "      <td>1</td>\n",
       "      <td>1</td>\n",
       "      <td>Bad</td>\n",
       "      <td>...</td>\n",
       "      <td>0</td>\n",
       "      <td>0</td>\n",
       "      <td>1</td>\n",
       "      <td>0</td>\n",
       "      <td>1</td>\n",
       "      <td>0</td>\n",
       "      <td>0</td>\n",
       "      <td>0</td>\n",
       "      <td>1</td>\n",
       "      <td>0</td>\n",
       "    </tr>\n",
       "    <tr>\n",
       "      <th>2</th>\n",
       "      <td>12</td>\n",
       "      <td>2096</td>\n",
       "      <td>2</td>\n",
       "      <td>3</td>\n",
       "      <td>49</td>\n",
       "      <td>1</td>\n",
       "      <td>2</td>\n",
       "      <td>1</td>\n",
       "      <td>1</td>\n",
       "      <td>Good</td>\n",
       "      <td>...</td>\n",
       "      <td>0</td>\n",
       "      <td>0</td>\n",
       "      <td>1</td>\n",
       "      <td>0</td>\n",
       "      <td>1</td>\n",
       "      <td>0</td>\n",
       "      <td>0</td>\n",
       "      <td>1</td>\n",
       "      <td>0</td>\n",
       "      <td>0</td>\n",
       "    </tr>\n",
       "    <tr>\n",
       "      <th>3</th>\n",
       "      <td>42</td>\n",
       "      <td>7882</td>\n",
       "      <td>2</td>\n",
       "      <td>4</td>\n",
       "      <td>45</td>\n",
       "      <td>1</td>\n",
       "      <td>2</td>\n",
       "      <td>1</td>\n",
       "      <td>1</td>\n",
       "      <td>Good</td>\n",
       "      <td>...</td>\n",
       "      <td>0</td>\n",
       "      <td>0</td>\n",
       "      <td>1</td>\n",
       "      <td>0</td>\n",
       "      <td>0</td>\n",
       "      <td>1</td>\n",
       "      <td>0</td>\n",
       "      <td>0</td>\n",
       "      <td>1</td>\n",
       "      <td>0</td>\n",
       "    </tr>\n",
       "    <tr>\n",
       "      <th>4</th>\n",
       "      <td>24</td>\n",
       "      <td>4870</td>\n",
       "      <td>3</td>\n",
       "      <td>4</td>\n",
       "      <td>53</td>\n",
       "      <td>2</td>\n",
       "      <td>2</td>\n",
       "      <td>1</td>\n",
       "      <td>1</td>\n",
       "      <td>Bad</td>\n",
       "      <td>...</td>\n",
       "      <td>0</td>\n",
       "      <td>0</td>\n",
       "      <td>1</td>\n",
       "      <td>0</td>\n",
       "      <td>0</td>\n",
       "      <td>1</td>\n",
       "      <td>0</td>\n",
       "      <td>0</td>\n",
       "      <td>1</td>\n",
       "      <td>0</td>\n",
       "    </tr>\n",
       "  </tbody>\n",
       "</table>\n",
       "<p>5 rows × 62 columns</p>\n",
       "</div>"
      ],
      "text/plain": [
       "   Duration  Amount  InstallmentRatePercentage  ResidenceDuration  Age  \\\n",
       "0         6    1169                          4                  4   67   \n",
       "1        48    5951                          2                  2   22   \n",
       "2        12    2096                          2                  3   49   \n",
       "3        42    7882                          2                  4   45   \n",
       "4        24    4870                          3                  4   53   \n",
       "\n",
       "   NumberExistingCredits  NumberPeopleMaintenance  Telephone  ForeignWorker  \\\n",
       "0                      2                        1          0              1   \n",
       "1                      1                        1          1              1   \n",
       "2                      1                        2          1              1   \n",
       "3                      1                        2          1              1   \n",
       "4                      2                        2          1              1   \n",
       "\n",
       "  Class  ...  OtherInstallmentPlans.Bank  OtherInstallmentPlans.Stores  \\\n",
       "0  Good  ...                           0                             0   \n",
       "1   Bad  ...                           0                             0   \n",
       "2  Good  ...                           0                             0   \n",
       "3  Good  ...                           0                             0   \n",
       "4   Bad  ...                           0                             0   \n",
       "\n",
       "   OtherInstallmentPlans.None  Housing.Rent  Housing.Own  Housing.ForFree  \\\n",
       "0                           1             0            1                0   \n",
       "1                           1             0            1                0   \n",
       "2                           1             0            1                0   \n",
       "3                           1             0            0                1   \n",
       "4                           1             0            0                1   \n",
       "\n",
       "   Job.UnemployedUnskilled  Job.UnskilledResident  Job.SkilledEmployee  \\\n",
       "0                        0                      0                    1   \n",
       "1                        0                      0                    1   \n",
       "2                        0                      1                    0   \n",
       "3                        0                      0                    1   \n",
       "4                        0                      0                    1   \n",
       "\n",
       "   Job.Management.SelfEmp.HighlyQualified  \n",
       "0                                       0  \n",
       "1                                       0  \n",
       "2                                       0  \n",
       "3                                       0  \n",
       "4                                       0  \n",
       "\n",
       "[5 rows x 62 columns]"
      ]
     },
     "execution_count": 186,
     "metadata": {},
     "output_type": "execute_result"
    }
   ],
   "source": [
    "df = pd.read_csv(\"C:\\\\Users\\\\Chaitanya\\\\Desktop\\\\Machine Learning\\\\Springboard\\\\tree-based-algorithm\\\\GermanCredit.csv\")\n",
    "df.head()"
   ]
  },
  {
   "cell_type": "code",
   "execution_count": 195,
   "metadata": {},
   "outputs": [
    {
     "name": "stdout",
     "output_type": "stream",
     "text": [
      "<class 'pandas.core.frame.DataFrame'>\n",
      "RangeIndex: 1000 entries, 0 to 999\n",
      "Data columns (total 62 columns):\n",
      "Duration                                  1000 non-null int64\n",
      "Amount                                    1000 non-null int64\n",
      "InstallmentRatePercentage                 1000 non-null int64\n",
      "ResidenceDuration                         1000 non-null int64\n",
      "Age                                       1000 non-null int64\n",
      "NumberExistingCredits                     1000 non-null int64\n",
      "NumberPeopleMaintenance                   1000 non-null int64\n",
      "Telephone                                 1000 non-null int64\n",
      "ForeignWorker                             1000 non-null int64\n",
      "Class                                     1000 non-null object\n",
      "CheckingAccountStatus.lt.0                1000 non-null int64\n",
      "CheckingAccountStatus.0.to.200            1000 non-null int64\n",
      "CheckingAccountStatus.gt.200              1000 non-null int64\n",
      "CheckingAccountStatus.none                1000 non-null int64\n",
      "CreditHistory.NoCredit.AllPaid            1000 non-null int64\n",
      "CreditHistory.ThisBank.AllPaid            1000 non-null int64\n",
      "CreditHistory.PaidDuly                    1000 non-null int64\n",
      "CreditHistory.Delay                       1000 non-null int64\n",
      "CreditHistory.Critical                    1000 non-null int64\n",
      "Purpose.NewCar                            1000 non-null int64\n",
      "Purpose.UsedCar                           1000 non-null int64\n",
      "Purpose.Furniture.Equipment               1000 non-null int64\n",
      "Purpose.Radio.Television                  1000 non-null int64\n",
      "Purpose.DomesticAppliance                 1000 non-null int64\n",
      "Purpose.Repairs                           1000 non-null int64\n",
      "Purpose.Education                         1000 non-null int64\n",
      "Purpose.Vacation                          1000 non-null int64\n",
      "Purpose.Retraining                        1000 non-null int64\n",
      "Purpose.Business                          1000 non-null int64\n",
      "Purpose.Other                             1000 non-null int64\n",
      "SavingsAccountBonds.lt.100                1000 non-null int64\n",
      "SavingsAccountBonds.100.to.500            1000 non-null int64\n",
      "SavingsAccountBonds.500.to.1000           1000 non-null int64\n",
      "SavingsAccountBonds.gt.1000               1000 non-null int64\n",
      "SavingsAccountBonds.Unknown               1000 non-null int64\n",
      "EmploymentDuration.lt.1                   1000 non-null int64\n",
      "EmploymentDuration.1.to.4                 1000 non-null int64\n",
      "EmploymentDuration.4.to.7                 1000 non-null int64\n",
      "EmploymentDuration.gt.7                   1000 non-null int64\n",
      "EmploymentDuration.Unemployed             1000 non-null int64\n",
      "Personal.Male.Divorced.Seperated          1000 non-null int64\n",
      "Personal.Female.NotSingle                 1000 non-null int64\n",
      "Personal.Male.Single                      1000 non-null int64\n",
      "Personal.Male.Married.Widowed             1000 non-null int64\n",
      "Personal.Female.Single                    1000 non-null int64\n",
      "OtherDebtorsGuarantors.None               1000 non-null int64\n",
      "OtherDebtorsGuarantors.CoApplicant        1000 non-null int64\n",
      "OtherDebtorsGuarantors.Guarantor          1000 non-null int64\n",
      "Property.RealEstate                       1000 non-null int64\n",
      "Property.Insurance                        1000 non-null int64\n",
      "Property.CarOther                         1000 non-null int64\n",
      "Property.Unknown                          1000 non-null int64\n",
      "OtherInstallmentPlans.Bank                1000 non-null int64\n",
      "OtherInstallmentPlans.Stores              1000 non-null int64\n",
      "OtherInstallmentPlans.None                1000 non-null int64\n",
      "Housing.Rent                              1000 non-null int64\n",
      "Housing.Own                               1000 non-null int64\n",
      "Housing.ForFree                           1000 non-null int64\n",
      "Job.UnemployedUnskilled                   1000 non-null int64\n",
      "Job.UnskilledResident                     1000 non-null int64\n",
      "Job.SkilledEmployee                       1000 non-null int64\n",
      "Job.Management.SelfEmp.HighlyQualified    1000 non-null int64\n",
      "dtypes: int64(61), object(1)\n",
      "memory usage: 484.5+ KB\n"
     ]
    }
   ],
   "source": [
    "df.info()"
   ]
  },
  {
   "cell_type": "code",
   "execution_count": 196,
   "metadata": {},
   "outputs": [
    {
     "data": {
      "text/html": [
       "<div>\n",
       "<style scoped>\n",
       "    .dataframe tbody tr th:only-of-type {\n",
       "        vertical-align: middle;\n",
       "    }\n",
       "\n",
       "    .dataframe tbody tr th {\n",
       "        vertical-align: top;\n",
       "    }\n",
       "\n",
       "    .dataframe thead th {\n",
       "        text-align: right;\n",
       "    }\n",
       "</style>\n",
       "<table border=\"1\" class=\"dataframe\">\n",
       "  <thead>\n",
       "    <tr style=\"text-align: right;\">\n",
       "      <th></th>\n",
       "      <th>Duration</th>\n",
       "      <th>Amount</th>\n",
       "      <th>InstallmentRatePercentage</th>\n",
       "      <th>ResidenceDuration</th>\n",
       "      <th>Age</th>\n",
       "      <th>NumberExistingCredits</th>\n",
       "      <th>NumberPeopleMaintenance</th>\n",
       "      <th>Telephone</th>\n",
       "      <th>ForeignWorker</th>\n",
       "      <th>CheckingAccountStatus.lt.0</th>\n",
       "      <th>...</th>\n",
       "      <th>OtherInstallmentPlans.Bank</th>\n",
       "      <th>OtherInstallmentPlans.Stores</th>\n",
       "      <th>OtherInstallmentPlans.None</th>\n",
       "      <th>Housing.Rent</th>\n",
       "      <th>Housing.Own</th>\n",
       "      <th>Housing.ForFree</th>\n",
       "      <th>Job.UnemployedUnskilled</th>\n",
       "      <th>Job.UnskilledResident</th>\n",
       "      <th>Job.SkilledEmployee</th>\n",
       "      <th>Job.Management.SelfEmp.HighlyQualified</th>\n",
       "    </tr>\n",
       "  </thead>\n",
       "  <tbody>\n",
       "    <tr>\n",
       "      <th>count</th>\n",
       "      <td>1000.000000</td>\n",
       "      <td>1000.000000</td>\n",
       "      <td>1000.000000</td>\n",
       "      <td>1000.000000</td>\n",
       "      <td>1000.000000</td>\n",
       "      <td>1000.000000</td>\n",
       "      <td>1000.000000</td>\n",
       "      <td>1000.000000</td>\n",
       "      <td>1000.000000</td>\n",
       "      <td>1000.000000</td>\n",
       "      <td>...</td>\n",
       "      <td>1000.00000</td>\n",
       "      <td>1000.000000</td>\n",
       "      <td>1000.000000</td>\n",
       "      <td>1000.000000</td>\n",
       "      <td>1000.000000</td>\n",
       "      <td>1000.000000</td>\n",
       "      <td>1000.000000</td>\n",
       "      <td>1000.0000</td>\n",
       "      <td>1000.000000</td>\n",
       "      <td>1000.000000</td>\n",
       "    </tr>\n",
       "    <tr>\n",
       "      <th>mean</th>\n",
       "      <td>20.903000</td>\n",
       "      <td>3271.258000</td>\n",
       "      <td>2.973000</td>\n",
       "      <td>2.845000</td>\n",
       "      <td>35.546000</td>\n",
       "      <td>1.407000</td>\n",
       "      <td>1.155000</td>\n",
       "      <td>0.596000</td>\n",
       "      <td>0.963000</td>\n",
       "      <td>0.274000</td>\n",
       "      <td>...</td>\n",
       "      <td>0.13900</td>\n",
       "      <td>0.047000</td>\n",
       "      <td>0.814000</td>\n",
       "      <td>0.179000</td>\n",
       "      <td>0.713000</td>\n",
       "      <td>0.108000</td>\n",
       "      <td>0.022000</td>\n",
       "      <td>0.2000</td>\n",
       "      <td>0.630000</td>\n",
       "      <td>0.148000</td>\n",
       "    </tr>\n",
       "    <tr>\n",
       "      <th>std</th>\n",
       "      <td>12.058814</td>\n",
       "      <td>2822.736876</td>\n",
       "      <td>1.118715</td>\n",
       "      <td>1.103718</td>\n",
       "      <td>11.375469</td>\n",
       "      <td>0.577654</td>\n",
       "      <td>0.362086</td>\n",
       "      <td>0.490943</td>\n",
       "      <td>0.188856</td>\n",
       "      <td>0.446232</td>\n",
       "      <td>...</td>\n",
       "      <td>0.34612</td>\n",
       "      <td>0.211745</td>\n",
       "      <td>0.389301</td>\n",
       "      <td>0.383544</td>\n",
       "      <td>0.452588</td>\n",
       "      <td>0.310536</td>\n",
       "      <td>0.146757</td>\n",
       "      <td>0.4002</td>\n",
       "      <td>0.483046</td>\n",
       "      <td>0.355278</td>\n",
       "    </tr>\n",
       "    <tr>\n",
       "      <th>min</th>\n",
       "      <td>4.000000</td>\n",
       "      <td>250.000000</td>\n",
       "      <td>1.000000</td>\n",
       "      <td>1.000000</td>\n",
       "      <td>19.000000</td>\n",
       "      <td>1.000000</td>\n",
       "      <td>1.000000</td>\n",
       "      <td>0.000000</td>\n",
       "      <td>0.000000</td>\n",
       "      <td>0.000000</td>\n",
       "      <td>...</td>\n",
       "      <td>0.00000</td>\n",
       "      <td>0.000000</td>\n",
       "      <td>0.000000</td>\n",
       "      <td>0.000000</td>\n",
       "      <td>0.000000</td>\n",
       "      <td>0.000000</td>\n",
       "      <td>0.000000</td>\n",
       "      <td>0.0000</td>\n",
       "      <td>0.000000</td>\n",
       "      <td>0.000000</td>\n",
       "    </tr>\n",
       "    <tr>\n",
       "      <th>25%</th>\n",
       "      <td>12.000000</td>\n",
       "      <td>1365.500000</td>\n",
       "      <td>2.000000</td>\n",
       "      <td>2.000000</td>\n",
       "      <td>27.000000</td>\n",
       "      <td>1.000000</td>\n",
       "      <td>1.000000</td>\n",
       "      <td>0.000000</td>\n",
       "      <td>1.000000</td>\n",
       "      <td>0.000000</td>\n",
       "      <td>...</td>\n",
       "      <td>0.00000</td>\n",
       "      <td>0.000000</td>\n",
       "      <td>1.000000</td>\n",
       "      <td>0.000000</td>\n",
       "      <td>0.000000</td>\n",
       "      <td>0.000000</td>\n",
       "      <td>0.000000</td>\n",
       "      <td>0.0000</td>\n",
       "      <td>0.000000</td>\n",
       "      <td>0.000000</td>\n",
       "    </tr>\n",
       "    <tr>\n",
       "      <th>50%</th>\n",
       "      <td>18.000000</td>\n",
       "      <td>2319.500000</td>\n",
       "      <td>3.000000</td>\n",
       "      <td>3.000000</td>\n",
       "      <td>33.000000</td>\n",
       "      <td>1.000000</td>\n",
       "      <td>1.000000</td>\n",
       "      <td>1.000000</td>\n",
       "      <td>1.000000</td>\n",
       "      <td>0.000000</td>\n",
       "      <td>...</td>\n",
       "      <td>0.00000</td>\n",
       "      <td>0.000000</td>\n",
       "      <td>1.000000</td>\n",
       "      <td>0.000000</td>\n",
       "      <td>1.000000</td>\n",
       "      <td>0.000000</td>\n",
       "      <td>0.000000</td>\n",
       "      <td>0.0000</td>\n",
       "      <td>1.000000</td>\n",
       "      <td>0.000000</td>\n",
       "    </tr>\n",
       "    <tr>\n",
       "      <th>75%</th>\n",
       "      <td>24.000000</td>\n",
       "      <td>3972.250000</td>\n",
       "      <td>4.000000</td>\n",
       "      <td>4.000000</td>\n",
       "      <td>42.000000</td>\n",
       "      <td>2.000000</td>\n",
       "      <td>1.000000</td>\n",
       "      <td>1.000000</td>\n",
       "      <td>1.000000</td>\n",
       "      <td>1.000000</td>\n",
       "      <td>...</td>\n",
       "      <td>0.00000</td>\n",
       "      <td>0.000000</td>\n",
       "      <td>1.000000</td>\n",
       "      <td>0.000000</td>\n",
       "      <td>1.000000</td>\n",
       "      <td>0.000000</td>\n",
       "      <td>0.000000</td>\n",
       "      <td>0.0000</td>\n",
       "      <td>1.000000</td>\n",
       "      <td>0.000000</td>\n",
       "    </tr>\n",
       "    <tr>\n",
       "      <th>max</th>\n",
       "      <td>72.000000</td>\n",
       "      <td>18424.000000</td>\n",
       "      <td>4.000000</td>\n",
       "      <td>4.000000</td>\n",
       "      <td>75.000000</td>\n",
       "      <td>4.000000</td>\n",
       "      <td>2.000000</td>\n",
       "      <td>1.000000</td>\n",
       "      <td>1.000000</td>\n",
       "      <td>1.000000</td>\n",
       "      <td>...</td>\n",
       "      <td>1.00000</td>\n",
       "      <td>1.000000</td>\n",
       "      <td>1.000000</td>\n",
       "      <td>1.000000</td>\n",
       "      <td>1.000000</td>\n",
       "      <td>1.000000</td>\n",
       "      <td>1.000000</td>\n",
       "      <td>1.0000</td>\n",
       "      <td>1.000000</td>\n",
       "      <td>1.000000</td>\n",
       "    </tr>\n",
       "  </tbody>\n",
       "</table>\n",
       "<p>8 rows × 61 columns</p>\n",
       "</div>"
      ],
      "text/plain": [
       "          Duration        Amount  InstallmentRatePercentage  \\\n",
       "count  1000.000000   1000.000000                1000.000000   \n",
       "mean     20.903000   3271.258000                   2.973000   \n",
       "std      12.058814   2822.736876                   1.118715   \n",
       "min       4.000000    250.000000                   1.000000   \n",
       "25%      12.000000   1365.500000                   2.000000   \n",
       "50%      18.000000   2319.500000                   3.000000   \n",
       "75%      24.000000   3972.250000                   4.000000   \n",
       "max      72.000000  18424.000000                   4.000000   \n",
       "\n",
       "       ResidenceDuration          Age  NumberExistingCredits  \\\n",
       "count        1000.000000  1000.000000            1000.000000   \n",
       "mean            2.845000    35.546000               1.407000   \n",
       "std             1.103718    11.375469               0.577654   \n",
       "min             1.000000    19.000000               1.000000   \n",
       "25%             2.000000    27.000000               1.000000   \n",
       "50%             3.000000    33.000000               1.000000   \n",
       "75%             4.000000    42.000000               2.000000   \n",
       "max             4.000000    75.000000               4.000000   \n",
       "\n",
       "       NumberPeopleMaintenance    Telephone  ForeignWorker  \\\n",
       "count              1000.000000  1000.000000    1000.000000   \n",
       "mean                  1.155000     0.596000       0.963000   \n",
       "std                   0.362086     0.490943       0.188856   \n",
       "min                   1.000000     0.000000       0.000000   \n",
       "25%                   1.000000     0.000000       1.000000   \n",
       "50%                   1.000000     1.000000       1.000000   \n",
       "75%                   1.000000     1.000000       1.000000   \n",
       "max                   2.000000     1.000000       1.000000   \n",
       "\n",
       "       CheckingAccountStatus.lt.0  ...  OtherInstallmentPlans.Bank  \\\n",
       "count                 1000.000000  ...                  1000.00000   \n",
       "mean                     0.274000  ...                     0.13900   \n",
       "std                      0.446232  ...                     0.34612   \n",
       "min                      0.000000  ...                     0.00000   \n",
       "25%                      0.000000  ...                     0.00000   \n",
       "50%                      0.000000  ...                     0.00000   \n",
       "75%                      1.000000  ...                     0.00000   \n",
       "max                      1.000000  ...                     1.00000   \n",
       "\n",
       "       OtherInstallmentPlans.Stores  OtherInstallmentPlans.None  Housing.Rent  \\\n",
       "count                   1000.000000                 1000.000000   1000.000000   \n",
       "mean                       0.047000                    0.814000      0.179000   \n",
       "std                        0.211745                    0.389301      0.383544   \n",
       "min                        0.000000                    0.000000      0.000000   \n",
       "25%                        0.000000                    1.000000      0.000000   \n",
       "50%                        0.000000                    1.000000      0.000000   \n",
       "75%                        0.000000                    1.000000      0.000000   \n",
       "max                        1.000000                    1.000000      1.000000   \n",
       "\n",
       "       Housing.Own  Housing.ForFree  Job.UnemployedUnskilled  \\\n",
       "count  1000.000000      1000.000000              1000.000000   \n",
       "mean      0.713000         0.108000                 0.022000   \n",
       "std       0.452588         0.310536                 0.146757   \n",
       "min       0.000000         0.000000                 0.000000   \n",
       "25%       0.000000         0.000000                 0.000000   \n",
       "50%       1.000000         0.000000                 0.000000   \n",
       "75%       1.000000         0.000000                 0.000000   \n",
       "max       1.000000         1.000000                 1.000000   \n",
       "\n",
       "       Job.UnskilledResident  Job.SkilledEmployee  \\\n",
       "count              1000.0000          1000.000000   \n",
       "mean                  0.2000             0.630000   \n",
       "std                   0.4002             0.483046   \n",
       "min                   0.0000             0.000000   \n",
       "25%                   0.0000             0.000000   \n",
       "50%                   0.0000             1.000000   \n",
       "75%                   0.0000             1.000000   \n",
       "max                   1.0000             1.000000   \n",
       "\n",
       "       Job.Management.SelfEmp.HighlyQualified  \n",
       "count                             1000.000000  \n",
       "mean                                 0.148000  \n",
       "std                                  0.355278  \n",
       "min                                  0.000000  \n",
       "25%                                  0.000000  \n",
       "50%                                  0.000000  \n",
       "75%                                  0.000000  \n",
       "max                                  1.000000  \n",
       "\n",
       "[8 rows x 61 columns]"
      ]
     },
     "execution_count": 196,
     "metadata": {},
     "output_type": "execute_result"
    }
   ],
   "source": [
    "df.describe()"
   ]
  },
  {
   "cell_type": "markdown",
   "metadata": {},
   "source": [
    "We have a mix of categorical and continuous variables.\n",
    "\n",
    "The target variable `Class` is a categorical. Let's explore it."
   ]
  },
  {
   "cell_type": "code",
   "execution_count": 197,
   "metadata": {},
   "outputs": [
    {
     "data": {
      "text/plain": [
       "Good    700\n",
       "Bad     300\n",
       "Name: Class, dtype: int64"
      ]
     },
     "execution_count": 197,
     "metadata": {},
     "output_type": "execute_result"
    }
   ],
   "source": [
    "df['Class'].value_counts()"
   ]
  },
  {
   "cell_type": "markdown",
   "metadata": {},
   "source": [
    "The data set is not balanced, so we need to take care of that. \n",
    "\n",
    "Lets convert the strings into numerical values for the target. `{\"Good\" : 1, \"Bad\" : 0}`"
   ]
  },
  {
   "cell_type": "code",
   "execution_count": 198,
   "metadata": {},
   "outputs": [
    {
     "data": {
      "text/plain": [
       "1    700\n",
       "0    300\n",
       "Name: Class, dtype: int64"
      ]
     },
     "execution_count": 198,
     "metadata": {},
     "output_type": "execute_result"
    }
   ],
   "source": [
    "transform = {\"Class\": {\"Good\" : 1, \"Bad\" : 0}}\n",
    "\n",
    "df.replace(transform, inplace=True)\n",
    "df['Class'].value_counts()"
   ]
  },
  {
   "cell_type": "code",
   "execution_count": 199,
   "metadata": {},
   "outputs": [
    {
     "name": "stdout",
     "output_type": "stream",
     "text": [
      "Duration: 72\n",
      "Amount: 18424\n",
      "InstallmentRatePercentage: 4\n",
      "ResidenceDuration: 4\n",
      "Age: 75\n",
      "NumberExistingCredits: 4\n",
      "NumberPeopleMaintenance: 2\n"
     ]
    }
   ],
   "source": [
    "for column in df:\n",
    "    if df[column].max() > 1:\n",
    "        print('{}: {}'.format(column, df[column].max()))"
   ]
  },
  {
   "cell_type": "markdown",
   "metadata": {},
   "source": [
    "`Duration`, `Amount` & `Age` are the only columns with numerical values.\n",
    "\n",
    "Let's take a look a the distributions of the continuous variables to check for outliers etc."
   ]
  },
  {
   "cell_type": "code",
   "execution_count": 201,
   "metadata": {},
   "outputs": [
    {
     "data": {
      "image/png": "[encoded data removed]",
      "text/plain": [
       "<Figure size 1008x288 with 3 Axes>"
      ]
     },
     "metadata": {},
     "output_type": "display_data"
    }
   ],
   "source": [
    "plt.subplots(1,3, figsize=(14,4))\n",
    "\n",
    "plt.subplot(1,3, 1)\n",
    "plt.hist(df.Duration)\n",
    "plt.title(\"Loan duration\")\n",
    "plt.xlabel(\"Duration\")\n",
    "plt.ylabel(\"Frequencey\")\n",
    "\n",
    "plt.subplot(1,3, 2)\n",
    "plt.hist(np.log10(df.Amount))\n",
    "plt.title(\"Loan amount\")\n",
    "plt.xlabel(\"Log 10 Amount\")\n",
    "plt.ylabel(\"Frequencey\")\n",
    "\n",
    "plt.subplot(1,3, 3)\n",
    "plt.hist(df.Age)\n",
    "plt.title(\"Borrower age\")\n",
    "plt.xlabel(\"Age\")\n",
    "plt.ylabel(\"Frequencey\")\n",
    "\n",
    "plt.tight_layout()\n",
    "plt.show()"
   ]
  },
  {
   "cell_type": "code",
   "execution_count": 91,
   "metadata": {},
   "outputs": [
    {
     "name": "stdout",
     "output_type": "stream",
     "text": [
      "(750, 61) (250, 61) (750,) (250,)\n"
     ]
    }
   ],
   "source": [
    "X = df.drop(['Class'], axis = 1)\n",
    "y = df['Class']\n",
    "\n",
    "X_train, X_test, y_train, y_test = train_test_split(X, y, random_state=seed)\n",
    "\n",
    "print(X_train.shape, X_test.shape, y_train.shape, y_test.shape)"
   ]
  },
  {
   "cell_type": "markdown",
   "metadata": {},
   "source": [
    "### Single Decision Tree\n",
    "The following code will create a single decision tree, fit it using training data and evaluate the results using test sample."
   ]
  },
  {
   "cell_type": "code",
   "execution_count": 10,
   "metadata": {},
   "outputs": [
    {
     "name": "stdout",
     "output_type": "stream",
     "text": [
      "== Decision Tree ==\n",
      "Accuracy: 0.66\n",
      "Log loss: 11.74\n",
      "Number of nodes created: 293\n"
     ]
    }
   ],
   "source": [
    "decision_tree = DecisionTreeClassifier(random_state=seed)\n",
    "\n",
    "# train classifier\n",
    "decision_tree.fit(X_train, y_train)\n",
    "\n",
    "# predict output\n",
    "decision_tree_y_pred  = decision_tree.predict(X_test)\n",
    "decision_tree_y_pred_prob  = decision_tree.predict_proba(X_test)\n",
    "\n",
    "# evaluation\n",
    "decision_tree_accuracy = accuracy_score(y_test, decision_tree_y_pred)\n",
    "decision_tree_logloss = log_loss(y_test, decision_tree_y_pred_prob)\n",
    "\n",
    "print(\"== Decision Tree ==\")\n",
    "print(\"Accuracy: {0:.2f}\".format(decision_tree_accuracy))\n",
    "print(\"Log loss: {0:.2f}\".format(decision_tree_logloss))\n",
    "print(\"Number of nodes created: {}\".format(decision_tree.tree_.node_count))"
   ]
  },
  {
   "cell_type": "markdown",
   "metadata": {},
   "source": [
    "We can see two things:\n",
    "\n",
    "1. the log loss score is not very promising (due to the fact that leaves in decision tree outputs either `0` or `1` as probability which is heaviliy penalized in case of errors, but the accuracy score is quite decent,\n",
    "2. the tree is complicated (large number of nodes)"
   ]
  },
  {
   "cell_type": "markdown",
   "metadata": {},
   "source": [
    "### AdaBoost\n",
    "In the example below we are creating a AdaBoost classifier running on 1000 iterations (1000 trees created). Also we are growing decision node up to first split (they are called *decision stumps*). We are also going to use `SAMME` algorithm which is inteneded to work with discrete data (output from `base_estimator` is `0` or `1`). Please refer to the [documentation](http://scikit-learn.org/stable/modules/generated/sklearn.ensemble.AdaBoostClassifier.html) and [here](http://scikit-learn.org/stable/auto_examples/ensemble/plot_adaboost_hastie_10_2.html) for more details."
   ]
  },
  {
   "cell_type": "code",
   "execution_count": 13,
   "metadata": {},
   "outputs": [
    {
     "name": "stdout",
     "output_type": "stream",
     "text": [
      "== AdaBoost ==\n",
      "Accuracy: 0.72\n",
      "Log loss: 0.68\n"
     ]
    }
   ],
   "source": [
    "adaboost = AdaBoostClassifier(\n",
    "    base_estimator=DecisionTreeClassifier(max_depth=1),\n",
    "    algorithm='SAMME',\n",
    "    n_estimators=1000,\n",
    "    random_state=seed)\n",
    "\n",
    "# train classifier\n",
    "adaboost.fit(X_train, y_train)\n",
    "\n",
    "# calculate predictions\n",
    "adaboost_y_pred = adaboost.predict(X_test)\n",
    "adaboost_y_pred_prob = adaboost.predict_proba(X_test)\n",
    "\n",
    "# evaluate\n",
    "adaboost_accuracy = accuracy_score(y_test, adaboost_y_pred)\n",
    "adaboost_logloss = log_loss(y_test, adaboost_y_pred_prob)\n",
    "\n",
    "print(\"== AdaBoost ==\")\n",
    "print(\"Accuracy: {0:.2f}\".format(adaboost_accuracy))\n",
    "print(\"Log loss: {0:.2f}\".format(adaboost_logloss))"
   ]
  },
  {
   "cell_type": "markdown",
   "metadata": {},
   "source": [
    "What's it's error and contribution into final ensemble"
   ]
  },
  {
   "cell_type": "code",
   "execution_count": 14,
   "metadata": {},
   "outputs": [
    {
     "name": "stdout",
     "output_type": "stream",
     "text": [
      "Error: 0.31\n",
      "Tree importance: 0.82\n"
     ]
    }
   ],
   "source": [
    "print(\"Error: {0:.2f}\".format(adaboost.estimator_errors_[0]))\n",
    "print(\"Tree importance: {0:.2f}\".format(adaboost.estimator_weights_[0]))"
   ]
  },
  {
   "cell_type": "markdown",
   "metadata": {},
   "source": [
    "### Gradient Boosted Trees\n",
    "Let's construct a gradient boosted tree consiting of 1000 trees where each successive one will be created with gradient optimization. Again we are going to leave most parameters with their default values, specifiy only maximum depth of the tree to 1 (again decision stumps), and setting warm start for more intelligent computations. Please refer to the [docs](http://scikit-learn.org/stable/modules/generated/sklearn.ensemble.GradientBoostingClassifier.html) if something is not clear."
   ]
  },
  {
   "cell_type": "code",
   "execution_count": 15,
   "metadata": {},
   "outputs": [
    {
     "name": "stdout",
     "output_type": "stream",
     "text": [
      "== Gradient Boosting ==\n",
      "Accuracy: 0.73\n",
      "Log loss: 0.54\n"
     ]
    }
   ],
   "source": [
    "gbc = GradientBoostingClassifier(\n",
    "    max_depth=1,\n",
    "    n_estimators=1000,\n",
    "    warm_start=True,\n",
    "    random_state=seed)\n",
    "gbc.fit(X_train, y_train)\n",
    "\n",
    "# make predictions\n",
    "gbc_y_pred = gbc.predict(X_test)\n",
    "gbc_y_pred_prob = gbc.predict_proba(X_test)\n",
    "\n",
    "# calculate log loss\n",
    "gbc_accuracy = accuracy_score(y_test, gbc_y_pred)\n",
    "gbc_logloss = log_loss(y_test, gbc_y_pred_prob)\n",
    "\n",
    "print(\"== Gradient Boosting ==\")\n",
    "print(\"Accuracy: {0:.2f}\".format(gbc_accuracy))\n",
    "print(\"Log loss: {0:.2f}\".format(gbc_logloss))"
   ]
  },
  {
   "cell_type": "markdown",
   "metadata": {},
   "source": [
    "The obtained results are obviously the best of all presented algorithm. We have obtained most accurate algorithm giving more sensible predictions about class probabilities.\n",
    "\n",
    "The difference is that GBC uses `DecisionTreeRegressor` classifier as the estimator with *mean-square error* as criterion. This results of slightly different output of the tree - now the leaf contains a predicted value (while the first splitting point remains the same)."
   ]
  },
  {
   "cell_type": "markdown",
   "metadata": {},
   "source": [
    "### XGBoost\n",
    "\n",
    "\n",
    "#### Specify training parameters\n",
    "Let's make the following assuptions and adjust algorithm parameters to it:\n",
    "- we are dealing with binary classification problem (`'objective':'binary:logistic'`),\n",
    "- we want shallow single trees with no more than 2 levels (`'max_depth':2`),\n",
    "- we want algorithm to learn fast and aggressively (`'eta':1`),\n",
    "- we want to iterate only 5 rounds"
   ]
  },
  {
   "cell_type": "code",
   "execution_count": 21,
   "metadata": {},
   "outputs": [],
   "source": [
    "xgb_mod = XGBClassifier() \n",
    "\n",
    "params = {\n",
    "    'objective':'binary:logistic',\n",
    "    'max_depth':2,\n",
    "    'eta':1\n",
    "}\n",
    "\n",
    "num_rounds = 5\n",
    "\n",
    "tree = xgb_mod.fit(X_train, y_train)"
   ]
  },
  {
   "cell_type": "code",
   "execution_count": 20,
   "metadata": {},
   "outputs": [
    {
     "name": "stdout",
     "output_type": "stream",
     "text": [
      "== Gradient Boosting ==\n",
      "Accuracy: 0.72\n",
      "Log loss: 0.77\n"
     ]
    }
   ],
   "source": [
    "gbc_y_pred = xgb_mod.predict(X_test)\n",
    "gbc_y_pred_prob = xgb_mod.predict_proba(X_test)\n",
    "\n",
    "# calculate log loss\n",
    "gbc_accuracy = accuracy_score(y_test, gbc_y_pred)\n",
    "gbc_logloss = log_loss(y_test, gbc_y_pred_prob)\n",
    "\n",
    "print(\"== Gradient Boosting ==\")\n",
    "print(\"Accuracy: {0:.2f}\".format(gbc_accuracy))\n",
    "print(\"Log loss: {0:.2f}\".format(gbc_logloss))"
   ]
  },
  {
   "cell_type": "markdown",
   "metadata": {},
   "source": [
    "### Using standard XGBoost interface"
   ]
  },
  {
   "cell_type": "code",
   "execution_count": 29,
   "metadata": {},
   "outputs": [
    {
     "data": {
      "text/html": [
       "<div>\n",
       "<style scoped>\n",
       "    .dataframe tbody tr th:only-of-type {\n",
       "        vertical-align: middle;\n",
       "    }\n",
       "\n",
       "    .dataframe tbody tr th {\n",
       "        vertical-align: top;\n",
       "    }\n",
       "\n",
       "    .dataframe thead th {\n",
       "        text-align: right;\n",
       "    }\n",
       "</style>\n",
       "<table border=\"1\" class=\"dataframe\">\n",
       "  <thead>\n",
       "    <tr style=\"text-align: right;\">\n",
       "      <th></th>\n",
       "      <th>Duration</th>\n",
       "      <th>Amount</th>\n",
       "      <th>InstallmentRatePercentage</th>\n",
       "      <th>ResidenceDuration</th>\n",
       "      <th>Age</th>\n",
       "      <th>NumberExistingCredits</th>\n",
       "      <th>NumberPeopleMaintenance</th>\n",
       "      <th>Telephone</th>\n",
       "      <th>ForeignWorker</th>\n",
       "      <th>Class</th>\n",
       "      <th>...</th>\n",
       "      <th>OtherInstallmentPlans.Bank</th>\n",
       "      <th>OtherInstallmentPlans.Stores</th>\n",
       "      <th>OtherInstallmentPlans.None</th>\n",
       "      <th>Housing.Rent</th>\n",
       "      <th>Housing.Own</th>\n",
       "      <th>Housing.ForFree</th>\n",
       "      <th>Job.UnemployedUnskilled</th>\n",
       "      <th>Job.UnskilledResident</th>\n",
       "      <th>Job.SkilledEmployee</th>\n",
       "      <th>Job.Management.SelfEmp.HighlyQualified</th>\n",
       "    </tr>\n",
       "  </thead>\n",
       "  <tbody>\n",
       "    <tr>\n",
       "      <th>0</th>\n",
       "      <td>6</td>\n",
       "      <td>1169</td>\n",
       "      <td>4</td>\n",
       "      <td>4</td>\n",
       "      <td>67</td>\n",
       "      <td>2</td>\n",
       "      <td>1</td>\n",
       "      <td>0</td>\n",
       "      <td>1</td>\n",
       "      <td>1</td>\n",
       "      <td>...</td>\n",
       "      <td>0</td>\n",
       "      <td>0</td>\n",
       "      <td>1</td>\n",
       "      <td>0</td>\n",
       "      <td>1</td>\n",
       "      <td>0</td>\n",
       "      <td>0</td>\n",
       "      <td>0</td>\n",
       "      <td>1</td>\n",
       "      <td>0</td>\n",
       "    </tr>\n",
       "    <tr>\n",
       "      <th>1</th>\n",
       "      <td>48</td>\n",
       "      <td>5951</td>\n",
       "      <td>2</td>\n",
       "      <td>2</td>\n",
       "      <td>22</td>\n",
       "      <td>1</td>\n",
       "      <td>1</td>\n",
       "      <td>1</td>\n",
       "      <td>1</td>\n",
       "      <td>0</td>\n",
       "      <td>...</td>\n",
       "      <td>0</td>\n",
       "      <td>0</td>\n",
       "      <td>1</td>\n",
       "      <td>0</td>\n",
       "      <td>1</td>\n",
       "      <td>0</td>\n",
       "      <td>0</td>\n",
       "      <td>0</td>\n",
       "      <td>1</td>\n",
       "      <td>0</td>\n",
       "    </tr>\n",
       "    <tr>\n",
       "      <th>2</th>\n",
       "      <td>12</td>\n",
       "      <td>2096</td>\n",
       "      <td>2</td>\n",
       "      <td>3</td>\n",
       "      <td>49</td>\n",
       "      <td>1</td>\n",
       "      <td>2</td>\n",
       "      <td>1</td>\n",
       "      <td>1</td>\n",
       "      <td>1</td>\n",
       "      <td>...</td>\n",
       "      <td>0</td>\n",
       "      <td>0</td>\n",
       "      <td>1</td>\n",
       "      <td>0</td>\n",
       "      <td>1</td>\n",
       "      <td>0</td>\n",
       "      <td>0</td>\n",
       "      <td>1</td>\n",
       "      <td>0</td>\n",
       "      <td>0</td>\n",
       "    </tr>\n",
       "    <tr>\n",
       "      <th>3</th>\n",
       "      <td>42</td>\n",
       "      <td>7882</td>\n",
       "      <td>2</td>\n",
       "      <td>4</td>\n",
       "      <td>45</td>\n",
       "      <td>1</td>\n",
       "      <td>2</td>\n",
       "      <td>1</td>\n",
       "      <td>1</td>\n",
       "      <td>1</td>\n",
       "      <td>...</td>\n",
       "      <td>0</td>\n",
       "      <td>0</td>\n",
       "      <td>1</td>\n",
       "      <td>0</td>\n",
       "      <td>0</td>\n",
       "      <td>1</td>\n",
       "      <td>0</td>\n",
       "      <td>0</td>\n",
       "      <td>1</td>\n",
       "      <td>0</td>\n",
       "    </tr>\n",
       "    <tr>\n",
       "      <th>4</th>\n",
       "      <td>24</td>\n",
       "      <td>4870</td>\n",
       "      <td>3</td>\n",
       "      <td>4</td>\n",
       "      <td>53</td>\n",
       "      <td>2</td>\n",
       "      <td>2</td>\n",
       "      <td>1</td>\n",
       "      <td>1</td>\n",
       "      <td>0</td>\n",
       "      <td>...</td>\n",
       "      <td>0</td>\n",
       "      <td>0</td>\n",
       "      <td>1</td>\n",
       "      <td>0</td>\n",
       "      <td>0</td>\n",
       "      <td>1</td>\n",
       "      <td>0</td>\n",
       "      <td>0</td>\n",
       "      <td>1</td>\n",
       "      <td>0</td>\n",
       "    </tr>\n",
       "  </tbody>\n",
       "</table>\n",
       "<p>5 rows × 62 columns</p>\n",
       "</div>"
      ],
      "text/plain": [
       "   Duration  Amount  InstallmentRatePercentage  ResidenceDuration  Age  \\\n",
       "0         6    1169                          4                  4   67   \n",
       "1        48    5951                          2                  2   22   \n",
       "2        12    2096                          2                  3   49   \n",
       "3        42    7882                          2                  4   45   \n",
       "4        24    4870                          3                  4   53   \n",
       "\n",
       "   NumberExistingCredits  NumberPeopleMaintenance  Telephone  ForeignWorker  \\\n",
       "0                      2                        1          0              1   \n",
       "1                      1                        1          1              1   \n",
       "2                      1                        2          1              1   \n",
       "3                      1                        2          1              1   \n",
       "4                      2                        2          1              1   \n",
       "\n",
       "   Class  ...  OtherInstallmentPlans.Bank  OtherInstallmentPlans.Stores  \\\n",
       "0      1  ...                           0                             0   \n",
       "1      0  ...                           0                             0   \n",
       "2      1  ...                           0                             0   \n",
       "3      1  ...                           0                             0   \n",
       "4      0  ...                           0                             0   \n",
       "\n",
       "   OtherInstallmentPlans.None  Housing.Rent  Housing.Own  Housing.ForFree  \\\n",
       "0                           1             0            1                0   \n",
       "1                           1             0            1                0   \n",
       "2                           1             0            1                0   \n",
       "3                           1             0            0                1   \n",
       "4                           1             0            0                1   \n",
       "\n",
       "   Job.UnemployedUnskilled  Job.UnskilledResident  Job.SkilledEmployee  \\\n",
       "0                        0                      0                    1   \n",
       "1                        0                      0                    1   \n",
       "2                        0                      1                    0   \n",
       "3                        0                      0                    1   \n",
       "4                        0                      0                    1   \n",
       "\n",
       "   Job.Management.SelfEmp.HighlyQualified  \n",
       "0                                       0  \n",
       "1                                       0  \n",
       "2                                       0  \n",
       "3                                       0  \n",
       "4                                       0  \n",
       "\n",
       "[5 rows x 62 columns]"
      ]
     },
     "execution_count": 29,
     "metadata": {},
     "output_type": "execute_result"
    }
   ],
   "source": [
    "df.head()"
   ]
  },
  {
   "cell_type": "code",
   "execution_count": 30,
   "metadata": {},
   "outputs": [
    {
     "name": "stdout",
     "output_type": "stream",
     "text": [
      "(750, 62) (250, 62)\n"
     ]
    }
   ],
   "source": [
    "train, test = train_test_split(df, random_state = 5)\n",
    "print(train.shape, test.shape)"
   ]
  },
  {
   "cell_type": "code",
   "execution_count": 111,
   "metadata": {},
   "outputs": [],
   "source": [
    "predictors = X.columns\n",
    "\n",
    "xgtrain = xgb.DMatrix(train[predictors].values, label = train['Class'].values)\n",
    "xgtest = xgb.DMatrix(test[predictors].values, label = test['Class'].values)"
   ]
  },
  {
   "cell_type": "code",
   "execution_count": 112,
   "metadata": {},
   "outputs": [
    {
     "name": "stdout",
     "output_type": "stream",
     "text": [
      "Train dataset contains 750 rows and 61 columns\n",
      "Test dataset contains 250 rows and 61 columns\n"
     ]
    }
   ],
   "source": [
    "print(\"Train dataset contains {0} rows and {1} columns\".format(xgtrain.num_row(), xgtrain.num_col()))\n",
    "print(\"Test dataset contains {0} rows and {1} columns\".format(xgtest.num_row(), xgtest.num_col()))"
   ]
  },
  {
   "cell_type": "code",
   "execution_count": 113,
   "metadata": {},
   "outputs": [
    {
     "name": "stdout",
     "output_type": "stream",
     "text": [
      "Train possible labels: \n",
      "[0. 1.]\n",
      "\n",
      "Test possible labels: \n",
      "[0. 1.]\n"
     ]
    }
   ],
   "source": [
    "print(\"Train possible labels: \")\n",
    "print(np.unique(xgtrain.get_label()))\n",
    "\n",
    "print(\"\\nTest possible labels: \")\n",
    "print(np.unique(xgtest.get_label()))"
   ]
  },
  {
   "cell_type": "code",
   "execution_count": 114,
   "metadata": {},
   "outputs": [
    {
     "name": "stdout",
     "output_type": "stream",
     "text": [
      "[0]\ttest-error:0.31200\ttrain-error:0.27733\n",
      "[1]\ttest-error:0.27600\ttrain-error:0.25200\n",
      "[2]\ttest-error:0.28000\ttrain-error:0.25200\n",
      "[3]\ttest-error:0.28800\ttrain-error:0.23467\n",
      "[4]\ttest-error:0.26400\ttrain-error:0.23600\n"
     ]
    }
   ],
   "source": [
    "# specify training parameters\n",
    "params = {\n",
    "    'objective':'binary:logistic',\n",
    "    'max_depth':2,\n",
    "    'eta':0.5\n",
    "}\n",
    "\n",
    "num_rounds = 5\n",
    "\n",
    "# watchlist to observe it's performance on the test set.\n",
    "\n",
    "watchlist  = [(xgtest,'test'), (xgtrain,'train')] # native interface only\n",
    "bst = xgb.train(params, xgtrain, num_rounds, watchlist)"
   ]
  },
  {
   "cell_type": "code",
   "execution_count": 36,
   "metadata": {},
   "outputs": [
    {
     "name": "stdout",
     "output_type": "stream",
     "text": [
      "0:[f12<0.5] yes=1,no=2,missing=1,gain=68.7618484,cover=187.5\n",
      "\t1:[f0<20.5] yes=3,no=4,missing=3,gain=23.1589737,cover=114\n",
      "\t\t3:leaf=0.346774191,cover=61\n",
      "\t\t4:leaf=-0.101851851,cover=53\n",
      "\t2:[f53<0.5] yes=5,no=6,missing=5,gain=9.16821289,cover=73.5\n",
      "\t\t5:leaf=0.306122452,cover=11.25\n",
      "\t\t6:leaf=0.833992124,cover=62.25\n",
      "\n",
      "0:[f9<0.5] yes=1,no=2,missing=1,gain=31.7666397,cover=175.622665\n",
      "\t1:[f1<9340.5] yes=3,no=4,missing=3,gain=18.2314911,cover=124.483093\n",
      "\t\t3:leaf=0.40164423,cover=117.124512\n",
      "\t\t4:leaf=-0.372783393,cover=7.35857773\n",
      "\t2:[f17<0.5] yes=5,no=6,missing=5,gain=15.2338734,cover=51.1395683\n",
      "\t\t5:leaf=-0.272492766,cover=37.9097328\n",
      "\t\t6:leaf=0.333073109,cover=13.2298336\n",
      "\n",
      "0:[f12<0.5] yes=1,no=2,missing=1,gain=17.3685493,cover=161.282486\n",
      "\t1:[f0<11.5] yes=3,no=4,missing=3,gain=13.0814409,cover=107.206818\n",
      "\t\t3:leaf=0.415695965,cover=15.7819433\n",
      "\t\t4:leaf=-0.064162612,cover=91.4248734\n",
      "\t2:[f53<0.5] yes=5,no=6,missing=5,gain=5.21288681,cover=54.0756721\n",
      "\t\t5:leaf=0.0271313004,cover=10.06528\n",
      "\t\t6:leaf=0.42798391,cover=44.0103951\n",
      "\n",
      "0:[f55<0.5] yes=1,no=2,missing=1,gain=10.7996883,cover=149.433212\n",
      "\t1:[f2<2.5] yes=3,no=4,missing=3,gain=7.71155071,cover=43.3966713\n",
      "\t\t3:leaf=0.127592042,cover=17.1971493\n",
      "\t\t4:leaf=-0.294662416,cover=26.199522\n",
      "\t2:[f1<4152] yes=5,no=6,missing=5,gain=8.25653648,cover=106.036545\n",
      "\t\t5:leaf=0.241708487,cover=81.300766\n",
      "\t\t6:leaf=-0.0848927349,cover=24.7357769\n",
      "\n",
      "0:[f29<0.5] yes=1,no=2,missing=1,gain=8.7110424,cover=143.307785\n",
      "\t1:[f1<1124.5] yes=3,no=4,missing=3,gain=4.85846043,cover=54.0875778\n",
      "\t\t3:leaf=-0.183714539,cover=6.47099733\n",
      "\t\t4:leaf=0.256412029,cover=47.616581\n",
      "\t2:[f0<34.5] yes=5,no=6,missing=5,gain=7.47534323,cover=89.2202148\n",
      "\t\t5:leaf=0.0214726441,cover=71.8262482\n",
      "\t\t6:leaf=-0.335511535,cover=17.3939648\n",
      "\n"
     ]
    }
   ],
   "source": [
    "#representation of a tree\n",
    "\n",
    "trees_dump = bst.get_dump(with_stats=True)\n",
    "\n",
    "for tree in trees_dump:\n",
    "    print(tree)"
   ]
  },
  {
   "cell_type": "code",
   "execution_count": 43,
   "metadata": {},
   "outputs": [
    {
     "data": {
      "image/png": "[encoded data removed]",
      "text/plain": [
       "<Figure size 432x288 with 1 Axes>"
      ]
     },
     "metadata": {},
     "output_type": "display_data"
    }
   ],
   "source": [
    "xgb.plot_importance(bst, importance_type='gain', xlabel='Gain')\n",
    "plt.show()"
   ]
  },
  {
   "cell_type": "code",
   "execution_count": 44,
   "metadata": {},
   "outputs": [
    {
     "data": {
      "image/png": "[encoded data removed]",
      "text/plain": [
       "<Figure size 432x288 with 1 Axes>"
      ]
     },
     "metadata": {},
     "output_type": "display_data"
    }
   ],
   "source": [
    "xgb.plot_importance(bst)\n",
    "plt.show()"
   ]
  },
  {
   "cell_type": "code",
   "execution_count": 45,
   "metadata": {},
   "outputs": [
    {
     "data": {
      "text/plain": [
       "{'f12': 2,\n",
       " 'f0': 3,\n",
       " 'f53': 2,\n",
       " 'f9': 1,\n",
       " 'f1': 3,\n",
       " 'f17': 1,\n",
       " 'f55': 1,\n",
       " 'f2': 1,\n",
       " 'f29': 1}"
      ]
     },
     "execution_count": 45,
     "metadata": {},
     "output_type": "execute_result"
    }
   ],
   "source": [
    "importances = bst.get_fscore()\n",
    "importances"
   ]
  },
  {
   "cell_type": "markdown",
   "metadata": {},
   "source": [
    "### Cross Validation"
   ]
  },
  {
   "cell_type": "code",
   "execution_count": 47,
   "metadata": {},
   "outputs": [
    {
     "data": {
      "text/plain": [
       "10"
      ]
     },
     "execution_count": 47,
     "metadata": {},
     "output_type": "execute_result"
    }
   ],
   "source": [
    "cv = StratifiedKFold(n_splits=10, shuffle=True, random_state=seed)\n",
    "cv.get_n_splits(X, y)"
   ]
  },
  {
   "cell_type": "code",
   "execution_count": 50,
   "metadata": {},
   "outputs": [],
   "source": [
    "#Let's check how the number of trees influence the predictions accuracy.\n",
    "\n",
    "default_params = {\n",
    "    'objective': 'binary:logistic',\n",
    "    'max_depth': 1,\n",
    "    'learning_rate': 0.3,\n",
    "}\n",
    "\n",
    "n_estimators_range = np.linspace(1, 200, 10).astype('int')\n",
    "\n",
    "train_scores, test_scores = validation_curve(\n",
    "    XGBClassifier(**default_params),\n",
    "    X, y,\n",
    "    param_name = 'n_estimators',\n",
    "    param_range = n_estimators_range,\n",
    "    cv=cv,\n",
    "    scoring='accuracy'\n",
    ")"
   ]
  },
  {
   "cell_type": "code",
   "execution_count": 51,
   "metadata": {},
   "outputs": [
    {
     "data": {
      "image/png": "[encoded data removed]",
      "text/plain": [
       "<Figure size 1000x600 with 1 Axes>"
      ]
     },
     "metadata": {},
     "output_type": "display_data"
    },
    {
     "name": "stdout",
     "output_type": "stream",
     "text": [
      "Best cross-validation result (0.77) obtained for 155 trees\n"
     ]
    }
   ],
   "source": [
    "train_scores_mean = np.mean(train_scores, axis=1)\n",
    "train_scores_std = np.std(train_scores, axis=1)\n",
    "test_scores_mean = np.mean(test_scores, axis=1)\n",
    "test_scores_std = np.std(test_scores, axis=1)\n",
    "\n",
    "fig = plt.figure(figsize=(10, 6), dpi=100)\n",
    "\n",
    "plt.title(\"Validation Curve with XGBoost (eta = 0.3)\")\n",
    "plt.xlabel(\"number of trees\")\n",
    "plt.ylabel(\"Accuracy\")\n",
    "plt.ylim(0.7, 1.1)\n",
    "\n",
    "plt.plot(n_estimators_range,\n",
    "             train_scores_mean,\n",
    "             label=\"Training score\",\n",
    "             color=\"r\")\n",
    "\n",
    "plt.plot(n_estimators_range,\n",
    "             test_scores_mean, \n",
    "             label=\"Cross-validation score\",\n",
    "             color=\"g\")\n",
    "\n",
    "plt.fill_between(n_estimators_range, \n",
    "                 train_scores_mean - train_scores_std,\n",
    "                 train_scores_mean + train_scores_std, \n",
    "                 alpha=0.2, color=\"r\")\n",
    "\n",
    "plt.fill_between(n_estimators_range,\n",
    "                 test_scores_mean - test_scores_std,\n",
    "                 test_scores_mean + test_scores_std,\n",
    "                 alpha=0.2, color=\"g\")\n",
    "\n",
    "plt.axhline(y=1, color='k', ls='dashed')\n",
    "\n",
    "plt.legend(loc=\"best\")\n",
    "plt.show()\n",
    "\n",
    "i = np.argmax(test_scores_mean)\n",
    "print(\"Best cross-validation result ({0:.2f}) obtained for {1} trees\".format(test_scores_mean[i], n_estimators_range[i]))"
   ]
  },
  {
   "cell_type": "markdown",
   "metadata": {},
   "source": [
    "Looking at the plot we can draw the following conclusions:\n",
    "\n",
    "- training score keeps growing while adding new trees, but from a certain point CV score is fixed\n",
    "- variance is lowest, and bias is high for less than 75 trees,\n",
    "- from about 50 (approx.) trees, the variance is getting higher \n",
    "- the CV score bias is holding steady (there is no point for adding extra trees / complexity) after 85 trees (approx.)\n",
    "- we can see that the model is quite stable keeping variance fixed when increasing it's complexity\n",
    "\n",
    "We can assume that the trade-off for our model will be met at `n_estimators = 100`. The variance is still to big."
   ]
  },
  {
   "cell_type": "markdown",
   "metadata": {},
   "source": [
    "### What we can do?\n",
    "\n",
    "#### Dealing with high variance\n",
    "If model is too complex try:\n",
    "- using less features (ie. feature selection),\n",
    "- using more training samples (ie. artificially generated),\n",
    "- increasing regularization (add penalties for extra complexity)\n",
    "\n",
    "In XGBoost you can try to:\n",
    "- reduce depth of each tree (`max_depth`),\n",
    "- increase `min_child_weight` parameter,\n",
    "- increase `gamma` parameter,\n",
    "- add more randomness using `subsample`, `colsample_bytree` parameters,\n",
    "- increase `lambda` and `alpha` regularization parameters\n",
    "\n",
    "#### Dealing with high bias\n",
    "If model is too simple:\n",
    "- add more features (ie. better feature engineering),\n",
    "- more sophisticated model\n",
    "- decrease regularization\n",
    "\n",
    "In XGBoost you can do it by:\n",
    "- increase depth of each tree (`max_depth`),\n",
    "- decrease `min_child_weight` parameter,\n",
    "- decrease `gamma` parameter,\n",
    "- decrease `lambda` and `alpha` regularization parameters\n",
    "\n",
    "Let's try to tweak a parameters a little bit. We are going to add some randomness - each tree we will use 70% randomly chosen samples and 60% randomly chosen features. This should help to reduce a variance. To decrease the bias (bigger accuracy) try adding an extra level to each tree."
   ]
  },
  {
   "cell_type": "code",
   "execution_count": 54,
   "metadata": {},
   "outputs": [
    {
     "name": "stdout",
     "output_type": "stream",
     "text": [
      "Time required: 0.26\n"
     ]
    }
   ],
   "source": [
    "default_params = {\n",
    "    'objective': 'binary:logistic',\n",
    "    'max_depth': 2, # changed\n",
    "    'learning_rate': 0.3,\n",
    "    'colsample_bytree': 0.6, # added\n",
    "    'subsample': 0.7 # added\n",
    "}\n",
    "\n",
    "n_estimators_range = np.linspace(1, 200, 10).astype('int')\n",
    "\n",
    "start = time()\n",
    "\n",
    "train_scores, test_scores = validation_curve(\n",
    "    XGBClassifier(**default_params),\n",
    "    X, y,\n",
    "    param_name = 'n_estimators',\n",
    "    param_range = n_estimators_range,\n",
    "    cv=cv,\n",
    "    scoring='accuracy'\n",
    ")\n",
    "\n",
    "print('Time required: {0:.2f}'.format( (time()-start)/60))"
   ]
  },
  {
   "cell_type": "code",
   "execution_count": 55,
   "metadata": {},
   "outputs": [
    {
     "data": {
      "image/png": "[encoded data removed]",
      "text/plain": [
       "<Figure size 1000x600 with 1 Axes>"
      ]
     },
     "metadata": {},
     "output_type": "display_data"
    },
    {
     "name": "stdout",
     "output_type": "stream",
     "text": [
      "Best cross-validation result (0.77) obtained for 200 trees\n"
     ]
    }
   ],
   "source": [
    "train_scores_mean = np.mean(train_scores, axis=1)\n",
    "train_scores_std = np.std(train_scores, axis=1)\n",
    "test_scores_mean = np.mean(test_scores, axis=1)\n",
    "test_scores_std = np.std(test_scores, axis=1)\n",
    "\n",
    "fig = plt.figure(figsize=(10, 6), dpi=100)\n",
    "\n",
    "plt.title(\"Validation Curve with XGBoost (eta = 0.3)\")\n",
    "plt.xlabel(\"number of trees\")\n",
    "plt.ylabel(\"Accuracy\")\n",
    "plt.ylim(0.7, 1.1)\n",
    "\n",
    "plt.plot(n_estimators_range,\n",
    "             train_scores_mean,\n",
    "             label=\"Training score\",\n",
    "             color=\"r\")\n",
    "\n",
    "plt.plot(n_estimators_range,\n",
    "             test_scores_mean, \n",
    "             label=\"Cross-validation score\",\n",
    "             color=\"g\")\n",
    "\n",
    "plt.fill_between(n_estimators_range, \n",
    "                 train_scores_mean - train_scores_std,\n",
    "                 train_scores_mean + train_scores_std, \n",
    "                 alpha=0.2, color=\"r\")\n",
    "\n",
    "plt.fill_between(n_estimators_range,\n",
    "                 test_scores_mean - test_scores_std,\n",
    "                 test_scores_mean + test_scores_std,\n",
    "                 alpha=0.2, color=\"g\")\n",
    "\n",
    "plt.axhline(y=1, color='k', ls='dashed')\n",
    "\n",
    "plt.legend(loc=\"best\")\n",
    "plt.show()\n",
    "\n",
    "i = np.argmax(test_scores_mean)\n",
    "print(\"Best cross-validation result ({0:.2f}) obtained for {1} trees\".format(test_scores_mean[i], n_estimators_range[i]))"
   ]
  },
  {
   "cell_type": "code",
   "execution_count": 57,
   "metadata": {},
   "outputs": [
    {
     "data": {
      "text/plain": [
       "('64bit', 'WindowsPE')"
      ]
     },
     "execution_count": 57,
     "metadata": {},
     "output_type": "execute_result"
    }
   ],
   "source": [
    "import platform\n",
    "platform.architecture()"
   ]
  },
  {
   "cell_type": "code",
   "execution_count": 58,
   "metadata": {},
   "outputs": [
    {
     "name": "stdout",
     "output_type": "stream",
     "text": [
      "64\n"
     ]
    }
   ],
   "source": [
    "import struct\n",
    "print(struct.calcsize(\"P\") * 8)"
   ]
  },
  {
   "cell_type": "markdown",
   "metadata": {},
   "source": [
    "#### Grid Search"
   ]
  },
  {
   "cell_type": "code",
   "execution_count": 92,
   "metadata": {},
   "outputs": [],
   "source": [
    "cv = StratifiedKFold(n_splits=10, shuffle=True, random_state=seed)\n",
    "\n",
    "params_grid = {\n",
    "    'max_depth': [1, 2, 3],\n",
    "    'n_estimators': [5, 10, 25, 50, 100],\n",
    "    'learning_rate': np.linspace(1e-16, 1, 3)\n",
    "}\n",
    "\n",
    "params_fixed = {\n",
    "    'objective': 'binary:logistic',\n",
    "}"
   ]
  },
  {
   "cell_type": "code",
   "execution_count": 93,
   "metadata": {},
   "outputs": [],
   "source": [
    "bst_grid = GridSearchCV(\n",
    "    estimator=XGBClassifier(**params_fixed, seed=seed),\n",
    "    param_grid=params_grid,\n",
    "    cv=cv,\n",
    "    scoring='accuracy'\n",
    ")"
   ]
  },
  {
   "cell_type": "code",
   "execution_count": 94,
   "metadata": {},
   "outputs": [
    {
     "data": {
      "text/plain": [
       "GridSearchCV(cv=StratifiedKFold(n_splits=10, random_state=142, shuffle=True),\n",
       "       error_score='raise-deprecating',\n",
       "       estimator=XGBClassifier(base_score=None, booster=None, colsample_bylevel=None,\n",
       "       colsample_bynode=None, colsample_bytree=None, gamma=None,\n",
       "       gpu_id=None, importance_type='gain', interaction_constraints=None,\n",
       "       learning_rate=None, max_delta_step=None, max_depth=None,\n",
       "       min_child_w...t=None, seed=142, subsample=None,\n",
       "       tree_method=None, validate_parameters=None, verbosity=None),\n",
       "       fit_params=None, iid='warn', n_jobs=None,\n",
       "       param_grid={'max_depth': [1, 2, 3], 'n_estimators': [5, 10, 25, 50, 100], 'learning_rate': array([1.e-16, 5.e-01, 1.e+00])},\n",
       "       pre_dispatch='2*n_jobs', refit=True, return_train_score='warn',\n",
       "       scoring='accuracy', verbose=0)"
      ]
     },
     "execution_count": 94,
     "metadata": {},
     "output_type": "execute_result"
    }
   ],
   "source": [
    "bst_grid.fit(X, y)"
   ]
  },
  {
   "cell_type": "code",
   "execution_count": 95,
   "metadata": {},
   "outputs": [
    {
     "name": "stdout",
     "output_type": "stream",
     "text": [
      "Best accuracy obtained: 0.768\n",
      "Parameters:\n",
      "\tlearning_rate: 0.5\n",
      "\tmax_depth: 2\n",
      "\tn_estimators: 50\n"
     ]
    }
   ],
   "source": [
    "print(\"Best accuracy obtained: {0}\".format(bst_grid.best_score_))\n",
    "print(\"Parameters:\")\n",
    "for key, value in bst_grid.best_params_.items():\n",
    "    print(\"\\t{}: {}\".format(key, value))"
   ]
  },
  {
   "cell_type": "markdown",
   "metadata": {},
   "source": [
    "#### Ramdomized Grid Search\n",
    "When the number of parameters and their values is getting big traditional grid-search approach quickly becomes ineffective. A possible solution might be to randomly pick certain parameters from their distribution. While it's not an exhaustive solution, it's worth giving a shot."
   ]
  },
  {
   "cell_type": "code",
   "execution_count": 96,
   "metadata": {},
   "outputs": [],
   "source": [
    "params_dist_grid = {\n",
    "    'max_depth': [1, 2, 3, 4],\n",
    "    'gamma': [0, 0.5, 1],\n",
    "    'n_estimators': randint(1, 1000), # uniform discrete random distribution\n",
    "    'learning_rate': uniform(), # gaussian distribution\n",
    "    'subsample': uniform(), # gaussian distribution\n",
    "    'colsample_bytree': uniform() # gaussian distribution\n",
    "}"
   ]
  },
  {
   "cell_type": "code",
   "execution_count": 97,
   "metadata": {},
   "outputs": [],
   "source": [
    "rs_grid = RandomizedSearchCV(\n",
    "    estimator=XGBClassifier(**params_fixed, seed=seed),\n",
    "    param_distributions=params_dist_grid,\n",
    "    n_iter=10,\n",
    "    cv=cv,\n",
    "    scoring='accuracy',\n",
    "    random_state=seed\n",
    ")"
   ]
  },
  {
   "cell_type": "code",
   "execution_count": 98,
   "metadata": {},
   "outputs": [
    {
     "name": "stdout",
     "output_type": "stream",
     "text": [
      "Time required: 0.70 min\n"
     ]
    }
   ],
   "source": [
    "start = time()\n",
    "\n",
    "rs_grid.fit(X, y)\n",
    "\n",
    "print('Time required: {0:.2f} min'.format( (time()-start)/60))"
   ]
  },
  {
   "cell_type": "code",
   "execution_count": 99,
   "metadata": {},
   "outputs": [
    {
     "data": {
      "text/plain": [
       "XGBClassifier(base_score=0.5, booster='gbtree', colsample_bylevel=1,\n",
       "       colsample_bynode=1, colsample_bytree=0.7062424583521489, gamma=0.5,\n",
       "       gpu_id=-1, importance_type='gain', interaction_constraints='',\n",
       "       learning_rate=0.0368712682669422, max_delta_step=0, max_depth=1,\n",
       "       min_child_weight=1, missing=nan, monotone_constraints='()',\n",
       "       n_estimators=805, n_jobs=0, num_parallel_tree=1,\n",
       "       objective='binary:logistic', random_state=142, reg_alpha=0,\n",
       "       reg_lambda=1, scale_pos_weight=1, seed=142,\n",
       "       subsample=0.3077217748386869, tree_method='exact',\n",
       "       validate_parameters=1, verbosity=None)"
      ]
     },
     "execution_count": 99,
     "metadata": {},
     "output_type": "execute_result"
    }
   ],
   "source": [
    "rs_grid.best_estimator_"
   ]
  },
  {
   "cell_type": "code",
   "execution_count": 100,
   "metadata": {},
   "outputs": [
    {
     "data": {
      "text/plain": [
       "{'colsample_bytree': 0.7062424583521489,\n",
       " 'gamma': 0.5,\n",
       " 'learning_rate': 0.0368712682669422,\n",
       " 'max_depth': 1,\n",
       " 'n_estimators': 805,\n",
       " 'subsample': 0.3077217748386869}"
      ]
     },
     "execution_count": 100,
     "metadata": {},
     "output_type": "execute_result"
    }
   ],
   "source": [
    "rs_grid.best_params_"
   ]
  },
  {
   "cell_type": "code",
   "execution_count": 101,
   "metadata": {},
   "outputs": [
    {
     "data": {
      "text/plain": [
       "0.763"
      ]
     },
     "execution_count": 101,
     "metadata": {},
     "output_type": "execute_result"
    }
   ],
   "source": [
    "rs_grid.best_score_"
   ]
  },
  {
   "cell_type": "code",
   "execution_count": 102,
   "metadata": {},
   "outputs": [
    {
     "name": "stdout",
     "output_type": "stream",
     "text": [
      "              precision    recall  f1-score   support\n",
      "\n",
      "           0       0.60      0.74      0.67       180\n",
      "           1       0.91      0.85      0.88       570\n",
      "\n",
      "   micro avg       0.82      0.82      0.82       750\n",
      "   macro avg       0.76      0.80      0.77       750\n",
      "weighted avg       0.84      0.82      0.83       750\n",
      "\n",
      "              precision    recall  f1-score   support\n",
      "\n",
      "           0       0.50      0.68      0.58        57\n",
      "           1       0.90      0.80      0.84       193\n",
      "\n",
      "   micro avg       0.77      0.77      0.77       250\n",
      "   macro avg       0.70      0.74      0.71       250\n",
      "weighted avg       0.81      0.77      0.78       250\n",
      "\n",
      "[[ 39  18]\n",
      " [ 39 154]]\n",
      "0.0049499591191609705\n"
     ]
    }
   ],
   "source": [
    "xgb_mod = XGBClassifier(colsample_bytree = 0.066,\n",
    "                         gamma = 0,\n",
    "                         learning_rate = 0.33,\n",
    "                         max_depth = 1,\n",
    "                         n_estimators = 467,\n",
    "                         subsample = 0.52) \n",
    "\n",
    "start = time()\n",
    "xgb_mod.fit(X_train, y_train)\n",
    "\n",
    "y_predict_train = xgb_mod.predict(X_train)\n",
    "y_predict_test = xgb_mod.predict(X_test)\n",
    "\n",
    "print(classification_report(y_predict_train, y_train))\n",
    "print(classification_report(y_predict_test, y_test))\n",
    "print(confusion_matrix(y_predict_test, y_test))\n",
    "print((time()-start)/60)"
   ]
  },
  {
   "cell_type": "markdown",
   "metadata": {},
   "source": [
    "### Handling imbalanced dataset "
   ]
  },
  {
   "cell_type": "code",
   "execution_count": 119,
   "metadata": {},
   "outputs": [
    {
     "name": "stdout",
     "output_type": "stream",
     "text": [
      "There are 700 positive instances.\n",
      "There are 300 negative instances.\n"
     ]
    }
   ],
   "source": [
    "print('There are {} positive instances.'.format(y.sum()))\n",
    "print('There are {} negative instances.'.format(len(df) - y.sum()))"
   ]
  },
  {
   "cell_type": "code",
   "execution_count": 120,
   "metadata": {},
   "outputs": [
    {
     "name": "stdout",
     "output_type": "stream",
     "text": [
      "There are 528 positive instances.\n",
      "There are 222 negative instances.\n"
     ]
    }
   ],
   "source": [
    "print('There are {} positive instances.'.format(y_train.sum()))\n",
    "print('There are {} negative instances.'.format(len(y_train) - y_train.sum()))"
   ]
  },
  {
   "cell_type": "code",
   "execution_count": 121,
   "metadata": {},
   "outputs": [
    {
     "name": "stdout",
     "output_type": "stream",
     "text": [
      "There are 172 positive instances.\n",
      "There are 78 negative instances.\n"
     ]
    }
   ],
   "source": [
    "print('There are {} positive instances.'.format(y_test.sum()))\n",
    "print('There are {} negative instances.'.format(len(y_test) - y_test.sum()))"
   ]
  },
  {
   "cell_type": "code",
   "execution_count": 130,
   "metadata": {},
   "outputs": [],
   "source": [
    "dtrain = xgb.DMatrix(X_train, label = y_train)\n",
    "dtest = xgb.DMatrix(X_test)"
   ]
  },
  {
   "cell_type": "code",
   "execution_count": 123,
   "metadata": {},
   "outputs": [
    {
     "name": "stdout",
     "output_type": "stream",
     "text": [
      "Train dataset contains 750 rows and 61 columns\n",
      "Test dataset contains 250 rows and 61 columns\n"
     ]
    }
   ],
   "source": [
    "print(\"Train dataset contains {0} rows and {1} columns\".format(dtrain.num_row(), dtrain.num_col()))\n",
    "print(\"Test dataset contains {0} rows and {1} columns\".format(dtest.num_row(), dtest.num_col()))"
   ]
  },
  {
   "cell_type": "code",
   "execution_count": 124,
   "metadata": {},
   "outputs": [],
   "source": [
    "params = {\n",
    "    'objective':'binary:logistic',\n",
    "    'max_depth':1,\n",
    "    'eta':1\n",
    "}\n",
    "\n",
    "num_rounds = 15\n",
    "\n",
    "xgboost_1 = xgb.train(params, dtrain, num_rounds)\n",
    "y_test_preds = (xgboost_1.predict(dtest) > 0.5).astype('int')"
   ]
  },
  {
   "cell_type": "code",
   "execution_count": 140,
   "metadata": {},
   "outputs": [
    {
     "name": "stdout",
     "output_type": "stream",
     "text": [
      "[[ 31  17]\n",
      " [ 47 155]]\n"
     ]
    }
   ],
   "source": [
    "print(confusion_matrix(y_test_preds, y_test))"
   ]
  },
  {
   "cell_type": "code",
   "execution_count": 141,
   "metadata": {},
   "outputs": [
    {
     "name": "stdout",
     "output_type": "stream",
     "text": [
      "              precision    recall  f1-score   support\n",
      "\n",
      "           0       0.40      0.65      0.49        48\n",
      "           1       0.90      0.77      0.83       202\n",
      "\n",
      "   micro avg       0.74      0.74      0.74       250\n",
      "   macro avg       0.65      0.71      0.66       250\n",
      "weighted avg       0.80      0.74      0.76       250\n",
      "\n"
     ]
    }
   ],
   "source": [
    "print(classification_report(y_test_preds, y_test))"
   ]
  },
  {
   "cell_type": "code",
   "execution_count": 144,
   "metadata": {},
   "outputs": [
    {
     "name": "stdout",
     "output_type": "stream",
     "text": [
      "Accuracy: 0.74\n",
      "Precision: 0.77\n",
      "Recall: 0.90\n"
     ]
    }
   ],
   "source": [
    "print('Accuracy: {0:.2f}'.format(accuracy_score(y_test, y_test_preds)))\n",
    "print('Precision: {0:.2f}'.format(precision_score(y_test, y_test_preds)))\n",
    "print('Recall: {0:.2f}'.format(recall_score(y_test, y_test_preds)))"
   ]
  },
  {
   "cell_type": "markdown",
   "metadata": {},
   "source": [
    "Intuitively we know that the focus should be on finding bad loans i.e. zero. First results are very promising (90% recall - wow), but deeper analysis show that the results are biased towards majority class (one - good loans) - we are very poor at predicting the actual label of negative instances (**0.4 precision for zero**). "
   ]
  },
  {
   "cell_type": "markdown",
   "metadata": {},
   "source": [
    "#### Custom weights\n",
    "Try to explicitly tell the algorithm what important using relative instance weights. Let's specify that positive instances have 5x more weight and add this information while creating `DMatrix`."
   ]
  },
  {
   "cell_type": "code",
   "execution_count": 164,
   "metadata": {},
   "outputs": [],
   "source": [
    "weights = np.zeros(len(y_train))\n",
    "weights[y_train == 0] = 5\n",
    "weights[y_train == 1] = 1\n",
    "\n",
    "dtrain = xgb.DMatrix(X_train, label=y_train, weight=weights) # weights added\n",
    "dtest = xgb.DMatrix(X_test)"
   ]
  },
  {
   "cell_type": "code",
   "execution_count": 165,
   "metadata": {},
   "outputs": [],
   "source": [
    "bst = xgb.train(params, dtrain, num_rounds)\n",
    "y_test_preds = (bst.predict(dtest) > 0.5).astype('int')"
   ]
  },
  {
   "cell_type": "code",
   "execution_count": 166,
   "metadata": {},
   "outputs": [
    {
     "name": "stdout",
     "output_type": "stream",
     "text": [
      "[[69 86]\n",
      " [ 9 86]]\n",
      "              precision    recall  f1-score   support\n",
      "\n",
      "           0       0.88      0.45      0.59       155\n",
      "           1       0.50      0.91      0.64        95\n",
      "\n",
      "   micro avg       0.62      0.62      0.62       250\n",
      "   macro avg       0.69      0.68      0.62       250\n",
      "weighted avg       0.74      0.62      0.61       250\n",
      "\n"
     ]
    }
   ],
   "source": [
    "print(confusion_matrix(y_test_preds, y_test))\n",
    "print(classification_report(y_test_preds, y_test))"
   ]
  },
  {
   "cell_type": "code",
   "execution_count": 167,
   "metadata": {},
   "outputs": [
    {
     "name": "stdout",
     "output_type": "stream",
     "text": [
      "Accuracy: 0.62\n",
      "Precision: 0.91\n",
      "Recall: 0.50\n"
     ]
    }
   ],
   "source": [
    "print('Accuracy: {0:.2f}'.format(accuracy_score(y_test, y_test_preds)))\n",
    "print('Precision: {0:.2f}'.format(precision_score(y_test, y_test_preds)))\n",
    "print('Recall: {0:.2f}'.format(recall_score(y_test, y_test_preds)))"
   ]
  },
  {
   "cell_type": "markdown",
   "metadata": {},
   "source": [
    "There are 78 bad loans and we are able to predict 69 one of them **(88%)**."
   ]
  },
  {
   "cell_type": "markdown",
   "metadata": {},
   "source": [
    "#### Using `scale_pos_weight` parameter\n",
    "You can automate the process of assigning weights manually by calculating the proportion between negative and positive instances and setting it to `scale_pos_weight` parameter."
   ]
  },
  {
   "cell_type": "code",
   "execution_count": 168,
   "metadata": {},
   "outputs": [],
   "source": [
    "dtrain = xgb.DMatrix(X_train, label=y_train)\n",
    "dtest = xgb.DMatrix(X_test)"
   ]
  },
  {
   "cell_type": "code",
   "execution_count": 169,
   "metadata": {},
   "outputs": [],
   "source": [
    "train_labels = dtrain.get_label()\n",
    "\n",
    "ratio = float(np.sum(train_labels == 0)) / np.sum(train_labels == 1)\n",
    "params['scale_pos_weight'] = ratio"
   ]
  },
  {
   "cell_type": "code",
   "execution_count": 172,
   "metadata": {},
   "outputs": [],
   "source": [
    "bst = xgb.train(params, dtrain, num_rounds)\n",
    "y_test_preds = (bst.predict(dtest) > 0.5).astype('int')"
   ]
  },
  {
   "cell_type": "code",
   "execution_count": 173,
   "metadata": {},
   "outputs": [
    {
     "name": "stdout",
     "output_type": "stream",
     "text": [
      "[[ 54  57]\n",
      " [ 24 115]]\n",
      "              precision    recall  f1-score   support\n",
      "\n",
      "           0       0.69      0.49      0.57       111\n",
      "           1       0.67      0.83      0.74       139\n",
      "\n",
      "   micro avg       0.68      0.68      0.68       250\n",
      "   macro avg       0.68      0.66      0.66       250\n",
      "weighted avg       0.68      0.68      0.66       250\n",
      "\n"
     ]
    }
   ],
   "source": [
    "print(confusion_matrix(y_test_preds, y_test))\n",
    "print(classification_report(y_test_preds, y_test))"
   ]
  },
  {
   "cell_type": "code",
   "execution_count": 174,
   "metadata": {},
   "outputs": [
    {
     "name": "stdout",
     "output_type": "stream",
     "text": [
      "Accuracy: 0.68\n",
      "Precision: 0.83\n",
      "Recall: 0.67\n"
     ]
    }
   ],
   "source": [
    "print('Accuracy: {0:.2f}'.format(accuracy_score(y_test, y_test_preds)))\n",
    "print('Precision: {0:.2f}'.format(precision_score(y_test, y_test_preds)))\n",
    "print('Recall: {0:.2f}'.format(recall_score(y_test, y_test_preds)))"
   ]
  }
 ],
 "metadata": {
  "kernelspec": {
   "display_name": "Python 3",
   "language": "python",
   "name": "python3"
  },
  "language_info": {
   "codemirror_mode": {
    "name": "ipython",
    "version": 3
   },
   "file_extension": ".py",
   "mimetype": "text/x-python",
   "name": "python",
   "nbconvert_exporter": "python",
   "pygments_lexer": "ipython3",
   "version": "3.6.8"
  }
 },
 "nbformat": 4,
 "nbformat_minor": 2
}
