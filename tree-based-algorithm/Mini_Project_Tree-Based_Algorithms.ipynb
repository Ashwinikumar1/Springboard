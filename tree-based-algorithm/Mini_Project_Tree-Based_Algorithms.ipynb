{
 "cells": [
  {
   "cell_type": "markdown",
   "metadata": {},
   "source": [
    "# Mini Project: Tree-Based Algorithms"
   ]
  },
  {
   "cell_type": "markdown",
   "metadata": {},
   "source": [
    "## The \"German Credit\" Dataset"
   ]
  },
  {
   "cell_type": "markdown",
   "metadata": {},
   "source": [
    "### Dataset Details"
   ]
  },
  {
   "cell_type": "markdown",
   "metadata": {},
   "source": [
    "This dataset has two classes (these would be considered labels in Machine Learning terms) to describe the worthiness of a personal loan: \"Good\" or \"Bad\". There are predictors related to attributes, such as: checking account status, duration, credit history, purpose of the loan, amount of the loan, savings accounts or bonds, employment duration, installment rate in percentage of disposable income, personal information, other debtors/guarantors, residence duration, property, age, other installment plans, housing, number of existing credits, job information, number of people being liable to provide maintenance for, telephone, and foreign worker status.\n",
    "\n",
    "Many of these predictors are discrete and have been expanded into several 0/1 indicator variables (a.k.a. they have been one-hot-encoded).\n",
    "\n",
    "This dataset has been kindly provided by Professor Dr. Hans Hofmann of the University of Hamburg, and can also be found on the UCI Machine Learning Repository."
   ]
  },
  {
   "cell_type": "markdown",
   "metadata": {},
   "source": [
    "\n",
    "\n",
    "\n"
   ]
  },
  {
   "cell_type": "markdown",
   "metadata": {},
   "source": [
    "## Decision Trees"
   ]
  },
  {
   "cell_type": "markdown",
   "metadata": {},
   "source": [
    " As we have learned in the previous lectures, Decision Trees as a family of algorithms (irrespective to the particular implementation) are powerful algorithms that can produce models with a predictive accuracy higher than that produced by linear models, such as Linear or Logistic Regression. Primarily, this is due to the fact the DT's can model nonlinear relationships, and also have a number of tuning paramters, that allow for the practicioner to achieve the best possible model. An added bonus is the ability to visualize the trained Decision Tree model, which allows for some insight into how the model has produced the predictions that it has. One caveat here, to keep in mind, is that sometimes, due to the size of the dataset (both in the sense of the number of records, as well as the number of features), the visualization might prove to be very large and complex, increasing the difficulty of interpretation."
   ]
  },
  {
   "cell_type": "markdown",
   "metadata": {},
   "source": [
    "To give you a very good example of how Decision Trees can be visualized and interpreted, we would strongly recommend that, before continuing on with solving the problems in this Mini Project, you take the time to read this fanstastic, detailed and informative blog post: http://explained.ai/decision-tree-viz/index.html"
   ]
  },
  {
   "cell_type": "markdown",
   "metadata": {},
   "source": [
    "## Building Your First Decision Tree Model"
   ]
  },
  {
   "cell_type": "markdown",
   "metadata": {},
   "source": [
    "So, now it's time to jump straight into the heart of the matter. Your first task, is to build a Decision Tree model, using the aforementioned \"German Credit\" dataset, which contains 1,000 records, and 62 columns (one of them presents the labels, and the other 61 present the potential features for the model.)"
   ]
  },
  {
   "cell_type": "markdown",
   "metadata": {},
   "source": [
    "For this task, you will be using the scikit-learn library, which comes already pre-installed with the Anaconda Python distribution. In case you're not using that, you can easily install it using pip."
   ]
  },
  {
   "cell_type": "markdown",
   "metadata": {},
   "source": [
    "Before embarking on creating your first model, we would strongly encourage you to read the short tutorial for Decision Trees in scikit-learn (http://scikit-learn.org/stable/modules/tree.html), and then dive a bit deeper into the documentation of the algorithm itself (http://scikit-learn.org/stable/modules/generated/sklearn.tree.DecisionTreeClassifier.html). "
   ]
  },
  {
   "cell_type": "markdown",
   "metadata": {},
   "source": [
    "Also, since you want to be able to present the results of your model, we suggest you take a look at the tutorial for accuracy metrics for classification models (http://scikit-learn.org/stable/modules/model_evaluation.html#classification-report) as well as the more detailed documentation (http://scikit-learn.org/stable/modules/generated/sklearn.metrics.classification_report.html).\n",
    "\n",
    "Finally, an *amazing* resource that explains the various classification model accuracy metrics, as well as the relationships between them, can be found on Wikipedia: https://en.wikipedia.org/wiki/Confusion_matrix"
   ]
  },
  {
   "cell_type": "markdown",
   "metadata": {},
   "source": [
    "(Note: as you've already learned in the Logistic Regression mini project, a standard practice in Machine Learning for achieving the best possible result when training a model is to use hyperparameter tuning, through Grid Search and k-fold Cross Validation. We strongly encourage you to use it here as well, not just because it's standard practice, but also becuase it's not going to be computationally to intensive, due to the size of the dataset that you're working with. Our suggestion here is that you split the data into 70% training, and 30% testing. Then, do the hyperparameter tuning and Cross Validation on the training set, and afterwards to a final test on the testing set.)"
   ]
  },
  {
   "cell_type": "markdown",
   "metadata": {},
   "source": [
    "### Now we pass the torch onto you! You can start building your first Decision Tree model! :)"
   ]
  },
  {
   "cell_type": "code",
   "execution_count": 17,
   "metadata": {},
   "outputs": [],
   "source": [
    "import pandas as pd\n",
    "import numpy as np\n",
    "import matplotlib.pyplot as plt\n",
    "import seaborn as sns\n",
    "from time import time\n",
    "import random \n",
    "from sklearn.tree import DecisionTreeClassifier\n",
    "from sklearn.metrics import classification_report\n",
    "from sklearn.metrics import confusion_matrix\n",
    "from sklearn.model_selection import train_test_split\n",
    "from sklearn.model_selection import GridSearchCV\n",
    "from sklearn.model_selection import RandomizedSearchCV\n",
    "from sklearn.model_selection import KFold\n",
    "from sklearn import metrics\n",
    "from sklearn.metrics import make_scorer\n",
    "from sklearn.metrics import roc_curve, auc\n",
    "\n",
    "%matplotlib inline\n",
    "#sns.set_style(\"ticks\")\n",
    "#sns.set_context(\"notebook\", font_scale=1, rc={\"lines.linewidth\": 1.5})\n",
    "#sns.despine()"
   ]
  },
  {
   "cell_type": "code",
   "execution_count": 2,
   "metadata": {},
   "outputs": [
    {
     "data": {
      "text/html": [
       "<div>\n",
       "<style scoped>\n",
       "    .dataframe tbody tr th:only-of-type {\n",
       "        vertical-align: middle;\n",
       "    }\n",
       "\n",
       "    .dataframe tbody tr th {\n",
       "        vertical-align: top;\n",
       "    }\n",
       "\n",
       "    .dataframe thead th {\n",
       "        text-align: right;\n",
       "    }\n",
       "</style>\n",
       "<table border=\"1\" class=\"dataframe\">\n",
       "  <thead>\n",
       "    <tr style=\"text-align: right;\">\n",
       "      <th></th>\n",
       "      <th>Duration</th>\n",
       "      <th>Amount</th>\n",
       "      <th>InstallmentRatePercentage</th>\n",
       "      <th>ResidenceDuration</th>\n",
       "      <th>Age</th>\n",
       "      <th>NumberExistingCredits</th>\n",
       "      <th>NumberPeopleMaintenance</th>\n",
       "      <th>Telephone</th>\n",
       "      <th>ForeignWorker</th>\n",
       "      <th>Class</th>\n",
       "      <th>...</th>\n",
       "      <th>OtherInstallmentPlans.Bank</th>\n",
       "      <th>OtherInstallmentPlans.Stores</th>\n",
       "      <th>OtherInstallmentPlans.None</th>\n",
       "      <th>Housing.Rent</th>\n",
       "      <th>Housing.Own</th>\n",
       "      <th>Housing.ForFree</th>\n",
       "      <th>Job.UnemployedUnskilled</th>\n",
       "      <th>Job.UnskilledResident</th>\n",
       "      <th>Job.SkilledEmployee</th>\n",
       "      <th>Job.Management.SelfEmp.HighlyQualified</th>\n",
       "    </tr>\n",
       "  </thead>\n",
       "  <tbody>\n",
       "    <tr>\n",
       "      <th>0</th>\n",
       "      <td>6</td>\n",
       "      <td>1169</td>\n",
       "      <td>4</td>\n",
       "      <td>4</td>\n",
       "      <td>67</td>\n",
       "      <td>2</td>\n",
       "      <td>1</td>\n",
       "      <td>0</td>\n",
       "      <td>1</td>\n",
       "      <td>Good</td>\n",
       "      <td>...</td>\n",
       "      <td>0</td>\n",
       "      <td>0</td>\n",
       "      <td>1</td>\n",
       "      <td>0</td>\n",
       "      <td>1</td>\n",
       "      <td>0</td>\n",
       "      <td>0</td>\n",
       "      <td>0</td>\n",
       "      <td>1</td>\n",
       "      <td>0</td>\n",
       "    </tr>\n",
       "    <tr>\n",
       "      <th>1</th>\n",
       "      <td>48</td>\n",
       "      <td>5951</td>\n",
       "      <td>2</td>\n",
       "      <td>2</td>\n",
       "      <td>22</td>\n",
       "      <td>1</td>\n",
       "      <td>1</td>\n",
       "      <td>1</td>\n",
       "      <td>1</td>\n",
       "      <td>Bad</td>\n",
       "      <td>...</td>\n",
       "      <td>0</td>\n",
       "      <td>0</td>\n",
       "      <td>1</td>\n",
       "      <td>0</td>\n",
       "      <td>1</td>\n",
       "      <td>0</td>\n",
       "      <td>0</td>\n",
       "      <td>0</td>\n",
       "      <td>1</td>\n",
       "      <td>0</td>\n",
       "    </tr>\n",
       "    <tr>\n",
       "      <th>2</th>\n",
       "      <td>12</td>\n",
       "      <td>2096</td>\n",
       "      <td>2</td>\n",
       "      <td>3</td>\n",
       "      <td>49</td>\n",
       "      <td>1</td>\n",
       "      <td>2</td>\n",
       "      <td>1</td>\n",
       "      <td>1</td>\n",
       "      <td>Good</td>\n",
       "      <td>...</td>\n",
       "      <td>0</td>\n",
       "      <td>0</td>\n",
       "      <td>1</td>\n",
       "      <td>0</td>\n",
       "      <td>1</td>\n",
       "      <td>0</td>\n",
       "      <td>0</td>\n",
       "      <td>1</td>\n",
       "      <td>0</td>\n",
       "      <td>0</td>\n",
       "    </tr>\n",
       "    <tr>\n",
       "      <th>3</th>\n",
       "      <td>42</td>\n",
       "      <td>7882</td>\n",
       "      <td>2</td>\n",
       "      <td>4</td>\n",
       "      <td>45</td>\n",
       "      <td>1</td>\n",
       "      <td>2</td>\n",
       "      <td>1</td>\n",
       "      <td>1</td>\n",
       "      <td>Good</td>\n",
       "      <td>...</td>\n",
       "      <td>0</td>\n",
       "      <td>0</td>\n",
       "      <td>1</td>\n",
       "      <td>0</td>\n",
       "      <td>0</td>\n",
       "      <td>1</td>\n",
       "      <td>0</td>\n",
       "      <td>0</td>\n",
       "      <td>1</td>\n",
       "      <td>0</td>\n",
       "    </tr>\n",
       "    <tr>\n",
       "      <th>4</th>\n",
       "      <td>24</td>\n",
       "      <td>4870</td>\n",
       "      <td>3</td>\n",
       "      <td>4</td>\n",
       "      <td>53</td>\n",
       "      <td>2</td>\n",
       "      <td>2</td>\n",
       "      <td>1</td>\n",
       "      <td>1</td>\n",
       "      <td>Bad</td>\n",
       "      <td>...</td>\n",
       "      <td>0</td>\n",
       "      <td>0</td>\n",
       "      <td>1</td>\n",
       "      <td>0</td>\n",
       "      <td>0</td>\n",
       "      <td>1</td>\n",
       "      <td>0</td>\n",
       "      <td>0</td>\n",
       "      <td>1</td>\n",
       "      <td>0</td>\n",
       "    </tr>\n",
       "  </tbody>\n",
       "</table>\n",
       "<p>5 rows × 62 columns</p>\n",
       "</div>"
      ],
      "text/plain": [
       "   Duration  Amount  InstallmentRatePercentage  ResidenceDuration  Age  \\\n",
       "0         6    1169                          4                  4   67   \n",
       "1        48    5951                          2                  2   22   \n",
       "2        12    2096                          2                  3   49   \n",
       "3        42    7882                          2                  4   45   \n",
       "4        24    4870                          3                  4   53   \n",
       "\n",
       "   NumberExistingCredits  NumberPeopleMaintenance  Telephone  ForeignWorker  \\\n",
       "0                      2                        1          0              1   \n",
       "1                      1                        1          1              1   \n",
       "2                      1                        2          1              1   \n",
       "3                      1                        2          1              1   \n",
       "4                      2                        2          1              1   \n",
       "\n",
       "  Class  ...  OtherInstallmentPlans.Bank  OtherInstallmentPlans.Stores  \\\n",
       "0  Good  ...                           0                             0   \n",
       "1   Bad  ...                           0                             0   \n",
       "2  Good  ...                           0                             0   \n",
       "3  Good  ...                           0                             0   \n",
       "4   Bad  ...                           0                             0   \n",
       "\n",
       "   OtherInstallmentPlans.None  Housing.Rent  Housing.Own  Housing.ForFree  \\\n",
       "0                           1             0            1                0   \n",
       "1                           1             0            1                0   \n",
       "2                           1             0            1                0   \n",
       "3                           1             0            0                1   \n",
       "4                           1             0            0                1   \n",
       "\n",
       "   Job.UnemployedUnskilled  Job.UnskilledResident  Job.SkilledEmployee  \\\n",
       "0                        0                      0                    1   \n",
       "1                        0                      0                    1   \n",
       "2                        0                      1                    0   \n",
       "3                        0                      0                    1   \n",
       "4                        0                      0                    1   \n",
       "\n",
       "   Job.Management.SelfEmp.HighlyQualified  \n",
       "0                                       0  \n",
       "1                                       0  \n",
       "2                                       0  \n",
       "3                                       0  \n",
       "4                                       0  \n",
       "\n",
       "[5 rows x 62 columns]"
      ]
     },
     "execution_count": 2,
     "metadata": {},
     "output_type": "execute_result"
    }
   ],
   "source": [
    "credit = pd.read_csv(\"GermanCredit.csv\")\n",
    "credit.head()"
   ]
  },
  {
   "cell_type": "code",
   "execution_count": 3,
   "metadata": {},
   "outputs": [
    {
     "name": "stdout",
     "output_type": "stream",
     "text": [
      "<class 'pandas.core.frame.DataFrame'>\n",
      "RangeIndex: 1000 entries, 0 to 999\n",
      "Data columns (total 62 columns):\n",
      "Duration                                  1000 non-null int64\n",
      "Amount                                    1000 non-null int64\n",
      "InstallmentRatePercentage                 1000 non-null int64\n",
      "ResidenceDuration                         1000 non-null int64\n",
      "Age                                       1000 non-null int64\n",
      "NumberExistingCredits                     1000 non-null int64\n",
      "NumberPeopleMaintenance                   1000 non-null int64\n",
      "Telephone                                 1000 non-null int64\n",
      "ForeignWorker                             1000 non-null int64\n",
      "Class                                     1000 non-null object\n",
      "CheckingAccountStatus.lt.0                1000 non-null int64\n",
      "CheckingAccountStatus.0.to.200            1000 non-null int64\n",
      "CheckingAccountStatus.gt.200              1000 non-null int64\n",
      "CheckingAccountStatus.none                1000 non-null int64\n",
      "CreditHistory.NoCredit.AllPaid            1000 non-null int64\n",
      "CreditHistory.ThisBank.AllPaid            1000 non-null int64\n",
      "CreditHistory.PaidDuly                    1000 non-null int64\n",
      "CreditHistory.Delay                       1000 non-null int64\n",
      "CreditHistory.Critical                    1000 non-null int64\n",
      "Purpose.NewCar                            1000 non-null int64\n",
      "Purpose.UsedCar                           1000 non-null int64\n",
      "Purpose.Furniture.Equipment               1000 non-null int64\n",
      "Purpose.Radio.Television                  1000 non-null int64\n",
      "Purpose.DomesticAppliance                 1000 non-null int64\n",
      "Purpose.Repairs                           1000 non-null int64\n",
      "Purpose.Education                         1000 non-null int64\n",
      "Purpose.Vacation                          1000 non-null int64\n",
      "Purpose.Retraining                        1000 non-null int64\n",
      "Purpose.Business                          1000 non-null int64\n",
      "Purpose.Other                             1000 non-null int64\n",
      "SavingsAccountBonds.lt.100                1000 non-null int64\n",
      "SavingsAccountBonds.100.to.500            1000 non-null int64\n",
      "SavingsAccountBonds.500.to.1000           1000 non-null int64\n",
      "SavingsAccountBonds.gt.1000               1000 non-null int64\n",
      "SavingsAccountBonds.Unknown               1000 non-null int64\n",
      "EmploymentDuration.lt.1                   1000 non-null int64\n",
      "EmploymentDuration.1.to.4                 1000 non-null int64\n",
      "EmploymentDuration.4.to.7                 1000 non-null int64\n",
      "EmploymentDuration.gt.7                   1000 non-null int64\n",
      "EmploymentDuration.Unemployed             1000 non-null int64\n",
      "Personal.Male.Divorced.Seperated          1000 non-null int64\n",
      "Personal.Female.NotSingle                 1000 non-null int64\n",
      "Personal.Male.Single                      1000 non-null int64\n",
      "Personal.Male.Married.Widowed             1000 non-null int64\n",
      "Personal.Female.Single                    1000 non-null int64\n",
      "OtherDebtorsGuarantors.None               1000 non-null int64\n",
      "OtherDebtorsGuarantors.CoApplicant        1000 non-null int64\n",
      "OtherDebtorsGuarantors.Guarantor          1000 non-null int64\n",
      "Property.RealEstate                       1000 non-null int64\n",
      "Property.Insurance                        1000 non-null int64\n",
      "Property.CarOther                         1000 non-null int64\n",
      "Property.Unknown                          1000 non-null int64\n",
      "OtherInstallmentPlans.Bank                1000 non-null int64\n",
      "OtherInstallmentPlans.Stores              1000 non-null int64\n",
      "OtherInstallmentPlans.None                1000 non-null int64\n",
      "Housing.Rent                              1000 non-null int64\n",
      "Housing.Own                               1000 non-null int64\n",
      "Housing.ForFree                           1000 non-null int64\n",
      "Job.UnemployedUnskilled                   1000 non-null int64\n",
      "Job.UnskilledResident                     1000 non-null int64\n",
      "Job.SkilledEmployee                       1000 non-null int64\n",
      "Job.Management.SelfEmp.HighlyQualified    1000 non-null int64\n",
      "dtypes: int64(61), object(1)\n",
      "memory usage: 484.5+ KB\n"
     ]
    }
   ],
   "source": [
    "credit.info()"
   ]
  },
  {
   "cell_type": "code",
   "execution_count": 4,
   "metadata": {},
   "outputs": [
    {
     "data": {
      "text/html": [
       "<div>\n",
       "<style scoped>\n",
       "    .dataframe tbody tr th:only-of-type {\n",
       "        vertical-align: middle;\n",
       "    }\n",
       "\n",
       "    .dataframe tbody tr th {\n",
       "        vertical-align: top;\n",
       "    }\n",
       "\n",
       "    .dataframe thead th {\n",
       "        text-align: right;\n",
       "    }\n",
       "</style>\n",
       "<table border=\"1\" class=\"dataframe\">\n",
       "  <thead>\n",
       "    <tr style=\"text-align: right;\">\n",
       "      <th></th>\n",
       "      <th>Duration</th>\n",
       "      <th>Amount</th>\n",
       "      <th>InstallmentRatePercentage</th>\n",
       "      <th>ResidenceDuration</th>\n",
       "      <th>Age</th>\n",
       "      <th>NumberExistingCredits</th>\n",
       "      <th>NumberPeopleMaintenance</th>\n",
       "      <th>Telephone</th>\n",
       "      <th>ForeignWorker</th>\n",
       "      <th>CheckingAccountStatus.lt.0</th>\n",
       "      <th>...</th>\n",
       "      <th>OtherInstallmentPlans.Bank</th>\n",
       "      <th>OtherInstallmentPlans.Stores</th>\n",
       "      <th>OtherInstallmentPlans.None</th>\n",
       "      <th>Housing.Rent</th>\n",
       "      <th>Housing.Own</th>\n",
       "      <th>Housing.ForFree</th>\n",
       "      <th>Job.UnemployedUnskilled</th>\n",
       "      <th>Job.UnskilledResident</th>\n",
       "      <th>Job.SkilledEmployee</th>\n",
       "      <th>Job.Management.SelfEmp.HighlyQualified</th>\n",
       "    </tr>\n",
       "  </thead>\n",
       "  <tbody>\n",
       "    <tr>\n",
       "      <th>count</th>\n",
       "      <td>1000.000000</td>\n",
       "      <td>1000.000000</td>\n",
       "      <td>1000.000000</td>\n",
       "      <td>1000.000000</td>\n",
       "      <td>1000.000000</td>\n",
       "      <td>1000.000000</td>\n",
       "      <td>1000.000000</td>\n",
       "      <td>1000.000000</td>\n",
       "      <td>1000.000000</td>\n",
       "      <td>1000.000000</td>\n",
       "      <td>...</td>\n",
       "      <td>1000.00000</td>\n",
       "      <td>1000.000000</td>\n",
       "      <td>1000.000000</td>\n",
       "      <td>1000.000000</td>\n",
       "      <td>1000.000000</td>\n",
       "      <td>1000.000000</td>\n",
       "      <td>1000.000000</td>\n",
       "      <td>1000.0000</td>\n",
       "      <td>1000.000000</td>\n",
       "      <td>1000.000000</td>\n",
       "    </tr>\n",
       "    <tr>\n",
       "      <th>mean</th>\n",
       "      <td>20.903000</td>\n",
       "      <td>3271.258000</td>\n",
       "      <td>2.973000</td>\n",
       "      <td>2.845000</td>\n",
       "      <td>35.546000</td>\n",
       "      <td>1.407000</td>\n",
       "      <td>1.155000</td>\n",
       "      <td>0.596000</td>\n",
       "      <td>0.963000</td>\n",
       "      <td>0.274000</td>\n",
       "      <td>...</td>\n",
       "      <td>0.13900</td>\n",
       "      <td>0.047000</td>\n",
       "      <td>0.814000</td>\n",
       "      <td>0.179000</td>\n",
       "      <td>0.713000</td>\n",
       "      <td>0.108000</td>\n",
       "      <td>0.022000</td>\n",
       "      <td>0.2000</td>\n",
       "      <td>0.630000</td>\n",
       "      <td>0.148000</td>\n",
       "    </tr>\n",
       "    <tr>\n",
       "      <th>std</th>\n",
       "      <td>12.058814</td>\n",
       "      <td>2822.736876</td>\n",
       "      <td>1.118715</td>\n",
       "      <td>1.103718</td>\n",
       "      <td>11.375469</td>\n",
       "      <td>0.577654</td>\n",
       "      <td>0.362086</td>\n",
       "      <td>0.490943</td>\n",
       "      <td>0.188856</td>\n",
       "      <td>0.446232</td>\n",
       "      <td>...</td>\n",
       "      <td>0.34612</td>\n",
       "      <td>0.211745</td>\n",
       "      <td>0.389301</td>\n",
       "      <td>0.383544</td>\n",
       "      <td>0.452588</td>\n",
       "      <td>0.310536</td>\n",
       "      <td>0.146757</td>\n",
       "      <td>0.4002</td>\n",
       "      <td>0.483046</td>\n",
       "      <td>0.355278</td>\n",
       "    </tr>\n",
       "    <tr>\n",
       "      <th>min</th>\n",
       "      <td>4.000000</td>\n",
       "      <td>250.000000</td>\n",
       "      <td>1.000000</td>\n",
       "      <td>1.000000</td>\n",
       "      <td>19.000000</td>\n",
       "      <td>1.000000</td>\n",
       "      <td>1.000000</td>\n",
       "      <td>0.000000</td>\n",
       "      <td>0.000000</td>\n",
       "      <td>0.000000</td>\n",
       "      <td>...</td>\n",
       "      <td>0.00000</td>\n",
       "      <td>0.000000</td>\n",
       "      <td>0.000000</td>\n",
       "      <td>0.000000</td>\n",
       "      <td>0.000000</td>\n",
       "      <td>0.000000</td>\n",
       "      <td>0.000000</td>\n",
       "      <td>0.0000</td>\n",
       "      <td>0.000000</td>\n",
       "      <td>0.000000</td>\n",
       "    </tr>\n",
       "    <tr>\n",
       "      <th>25%</th>\n",
       "      <td>12.000000</td>\n",
       "      <td>1365.500000</td>\n",
       "      <td>2.000000</td>\n",
       "      <td>2.000000</td>\n",
       "      <td>27.000000</td>\n",
       "      <td>1.000000</td>\n",
       "      <td>1.000000</td>\n",
       "      <td>0.000000</td>\n",
       "      <td>1.000000</td>\n",
       "      <td>0.000000</td>\n",
       "      <td>...</td>\n",
       "      <td>0.00000</td>\n",
       "      <td>0.000000</td>\n",
       "      <td>1.000000</td>\n",
       "      <td>0.000000</td>\n",
       "      <td>0.000000</td>\n",
       "      <td>0.000000</td>\n",
       "      <td>0.000000</td>\n",
       "      <td>0.0000</td>\n",
       "      <td>0.000000</td>\n",
       "      <td>0.000000</td>\n",
       "    </tr>\n",
       "    <tr>\n",
       "      <th>50%</th>\n",
       "      <td>18.000000</td>\n",
       "      <td>2319.500000</td>\n",
       "      <td>3.000000</td>\n",
       "      <td>3.000000</td>\n",
       "      <td>33.000000</td>\n",
       "      <td>1.000000</td>\n",
       "      <td>1.000000</td>\n",
       "      <td>1.000000</td>\n",
       "      <td>1.000000</td>\n",
       "      <td>0.000000</td>\n",
       "      <td>...</td>\n",
       "      <td>0.00000</td>\n",
       "      <td>0.000000</td>\n",
       "      <td>1.000000</td>\n",
       "      <td>0.000000</td>\n",
       "      <td>1.000000</td>\n",
       "      <td>0.000000</td>\n",
       "      <td>0.000000</td>\n",
       "      <td>0.0000</td>\n",
       "      <td>1.000000</td>\n",
       "      <td>0.000000</td>\n",
       "    </tr>\n",
       "    <tr>\n",
       "      <th>75%</th>\n",
       "      <td>24.000000</td>\n",
       "      <td>3972.250000</td>\n",
       "      <td>4.000000</td>\n",
       "      <td>4.000000</td>\n",
       "      <td>42.000000</td>\n",
       "      <td>2.000000</td>\n",
       "      <td>1.000000</td>\n",
       "      <td>1.000000</td>\n",
       "      <td>1.000000</td>\n",
       "      <td>1.000000</td>\n",
       "      <td>...</td>\n",
       "      <td>0.00000</td>\n",
       "      <td>0.000000</td>\n",
       "      <td>1.000000</td>\n",
       "      <td>0.000000</td>\n",
       "      <td>1.000000</td>\n",
       "      <td>0.000000</td>\n",
       "      <td>0.000000</td>\n",
       "      <td>0.0000</td>\n",
       "      <td>1.000000</td>\n",
       "      <td>0.000000</td>\n",
       "    </tr>\n",
       "    <tr>\n",
       "      <th>max</th>\n",
       "      <td>72.000000</td>\n",
       "      <td>18424.000000</td>\n",
       "      <td>4.000000</td>\n",
       "      <td>4.000000</td>\n",
       "      <td>75.000000</td>\n",
       "      <td>4.000000</td>\n",
       "      <td>2.000000</td>\n",
       "      <td>1.000000</td>\n",
       "      <td>1.000000</td>\n",
       "      <td>1.000000</td>\n",
       "      <td>...</td>\n",
       "      <td>1.00000</td>\n",
       "      <td>1.000000</td>\n",
       "      <td>1.000000</td>\n",
       "      <td>1.000000</td>\n",
       "      <td>1.000000</td>\n",
       "      <td>1.000000</td>\n",
       "      <td>1.000000</td>\n",
       "      <td>1.0000</td>\n",
       "      <td>1.000000</td>\n",
       "      <td>1.000000</td>\n",
       "    </tr>\n",
       "  </tbody>\n",
       "</table>\n",
       "<p>8 rows × 61 columns</p>\n",
       "</div>"
      ],
      "text/plain": [
       "          Duration        Amount  InstallmentRatePercentage  \\\n",
       "count  1000.000000   1000.000000                1000.000000   \n",
       "mean     20.903000   3271.258000                   2.973000   \n",
       "std      12.058814   2822.736876                   1.118715   \n",
       "min       4.000000    250.000000                   1.000000   \n",
       "25%      12.000000   1365.500000                   2.000000   \n",
       "50%      18.000000   2319.500000                   3.000000   \n",
       "75%      24.000000   3972.250000                   4.000000   \n",
       "max      72.000000  18424.000000                   4.000000   \n",
       "\n",
       "       ResidenceDuration          Age  NumberExistingCredits  \\\n",
       "count        1000.000000  1000.000000            1000.000000   \n",
       "mean            2.845000    35.546000               1.407000   \n",
       "std             1.103718    11.375469               0.577654   \n",
       "min             1.000000    19.000000               1.000000   \n",
       "25%             2.000000    27.000000               1.000000   \n",
       "50%             3.000000    33.000000               1.000000   \n",
       "75%             4.000000    42.000000               2.000000   \n",
       "max             4.000000    75.000000               4.000000   \n",
       "\n",
       "       NumberPeopleMaintenance    Telephone  ForeignWorker  \\\n",
       "count              1000.000000  1000.000000    1000.000000   \n",
       "mean                  1.155000     0.596000       0.963000   \n",
       "std                   0.362086     0.490943       0.188856   \n",
       "min                   1.000000     0.000000       0.000000   \n",
       "25%                   1.000000     0.000000       1.000000   \n",
       "50%                   1.000000     1.000000       1.000000   \n",
       "75%                   1.000000     1.000000       1.000000   \n",
       "max                   2.000000     1.000000       1.000000   \n",
       "\n",
       "       CheckingAccountStatus.lt.0  ...  OtherInstallmentPlans.Bank  \\\n",
       "count                 1000.000000  ...                  1000.00000   \n",
       "mean                     0.274000  ...                     0.13900   \n",
       "std                      0.446232  ...                     0.34612   \n",
       "min                      0.000000  ...                     0.00000   \n",
       "25%                      0.000000  ...                     0.00000   \n",
       "50%                      0.000000  ...                     0.00000   \n",
       "75%                      1.000000  ...                     0.00000   \n",
       "max                      1.000000  ...                     1.00000   \n",
       "\n",
       "       OtherInstallmentPlans.Stores  OtherInstallmentPlans.None  Housing.Rent  \\\n",
       "count                   1000.000000                 1000.000000   1000.000000   \n",
       "mean                       0.047000                    0.814000      0.179000   \n",
       "std                        0.211745                    0.389301      0.383544   \n",
       "min                        0.000000                    0.000000      0.000000   \n",
       "25%                        0.000000                    1.000000      0.000000   \n",
       "50%                        0.000000                    1.000000      0.000000   \n",
       "75%                        0.000000                    1.000000      0.000000   \n",
       "max                        1.000000                    1.000000      1.000000   \n",
       "\n",
       "       Housing.Own  Housing.ForFree  Job.UnemployedUnskilled  \\\n",
       "count  1000.000000      1000.000000              1000.000000   \n",
       "mean      0.713000         0.108000                 0.022000   \n",
       "std       0.452588         0.310536                 0.146757   \n",
       "min       0.000000         0.000000                 0.000000   \n",
       "25%       0.000000         0.000000                 0.000000   \n",
       "50%       1.000000         0.000000                 0.000000   \n",
       "75%       1.000000         0.000000                 0.000000   \n",
       "max       1.000000         1.000000                 1.000000   \n",
       "\n",
       "       Job.UnskilledResident  Job.SkilledEmployee  \\\n",
       "count              1000.0000          1000.000000   \n",
       "mean                  0.2000             0.630000   \n",
       "std                   0.4002             0.483046   \n",
       "min                   0.0000             0.000000   \n",
       "25%                   0.0000             0.000000   \n",
       "50%                   0.0000             1.000000   \n",
       "75%                   0.0000             1.000000   \n",
       "max                   1.0000             1.000000   \n",
       "\n",
       "       Job.Management.SelfEmp.HighlyQualified  \n",
       "count                             1000.000000  \n",
       "mean                                 0.148000  \n",
       "std                                  0.355278  \n",
       "min                                  0.000000  \n",
       "25%                                  0.000000  \n",
       "50%                                  0.000000  \n",
       "75%                                  0.000000  \n",
       "max                                  1.000000  \n",
       "\n",
       "[8 rows x 61 columns]"
      ]
     },
     "execution_count": 4,
     "metadata": {},
     "output_type": "execute_result"
    }
   ],
   "source": [
    "credit.describe()"
   ]
  },
  {
   "cell_type": "markdown",
   "metadata": {},
   "source": [
    "We have a mix of categorical and continuous variables.\n",
    "\n",
    "The target variable `Class` is a categorical. Let's explore it."
   ]
  },
  {
   "cell_type": "code",
   "execution_count": 5,
   "metadata": {},
   "outputs": [
    {
     "data": {
      "text/plain": [
       "Good    700\n",
       "Bad     300\n",
       "Name: Class, dtype: int64"
      ]
     },
     "execution_count": 5,
     "metadata": {},
     "output_type": "execute_result"
    }
   ],
   "source": [
    "credit['Class'].value_counts()"
   ]
  },
  {
   "cell_type": "markdown",
   "metadata": {},
   "source": [
    "The data set is not balanced, so we need to take care of that. \n",
    "\n",
    "Lets convert the strings into numerical values for the target. `{\"Good\" : 1, \"Bad\" : 0}`"
   ]
  },
  {
   "cell_type": "code",
   "execution_count": 6,
   "metadata": {},
   "outputs": [
    {
     "data": {
      "text/plain": [
       "1    700\n",
       "0    300\n",
       "Name: Class, dtype: int64"
      ]
     },
     "execution_count": 6,
     "metadata": {},
     "output_type": "execute_result"
    }
   ],
   "source": [
    "transform = {\"Class\": {\"Good\" : 1, \"Bad\" : 0}}\n",
    "\n",
    "credit.replace(transform, inplace=True)\n",
    "credit['Class'].value_counts()"
   ]
  },
  {
   "cell_type": "code",
   "execution_count": 7,
   "metadata": {},
   "outputs": [
    {
     "name": "stdout",
     "output_type": "stream",
     "text": [
      "Duration: 72\n",
      "Amount: 18424\n",
      "InstallmentRatePercentage: 4\n",
      "ResidenceDuration: 4\n",
      "Age: 75\n",
      "NumberExistingCredits: 4\n",
      "NumberPeopleMaintenance: 2\n"
     ]
    }
   ],
   "source": [
    "for column in credit:\n",
    "    if credit[column].max() > 1:\n",
    "        print('{}: {}'.format(column, credit[column].max()))"
   ]
  },
  {
   "cell_type": "markdown",
   "metadata": {},
   "source": [
    "`Duration`, `Amount` & `Age` are the only columns with numerical values.\n",
    "\n",
    "Let's take a look a the distributions of the continuous variables to check for outliers etc."
   ]
  },
  {
   "cell_type": "code",
   "execution_count": 8,
   "metadata": {},
   "outputs": [
    {
     "data": {
      "image/png": "[encoded data removed]",
      "text/plain": [
       "<Figure size 1008x288 with 3 Axes>"
      ]
     },
     "metadata": {
      "needs_background": "light"
     },
     "output_type": "display_data"
    }
   ],
   "source": [
    "plt.subplots(1,3, figsize=(14,4))\n",
    "\n",
    "plt.subplot(1,3, 1)\n",
    "plt.hist(credit.Duration)\n",
    "plt.title(\"Loan duration\")\n",
    "plt.xlabel(\"Duration\")\n",
    "plt.ylabel(\"Frequencey\")\n",
    "\n",
    "plt.subplot(1,3, 2)\n",
    "plt.hist(np.log10(credit.Amount))\n",
    "plt.title(\"Loan amount\")\n",
    "plt.xlabel(\"Log 10 Amount\")\n",
    "plt.ylabel(\"Frequencey\")\n",
    "\n",
    "plt.subplot(1,3, 3)\n",
    "plt.hist(credit.Age)\n",
    "plt.title(\"Borrower age\")\n",
    "plt.xlabel(\"Age\")\n",
    "plt.ylabel(\"Frequencey\")\n",
    "\n",
    "plt.tight_layout()\n",
    "plt.show()"
   ]
  },
  {
   "cell_type": "code",
   "execution_count": 9,
   "metadata": {},
   "outputs": [
    {
     "name": "stdout",
     "output_type": "stream",
     "text": [
      "(750, 61) (250, 61) (750,) (250,)\n"
     ]
    }
   ],
   "source": [
    "x = credit.drop(['Class'], axis = 1)\n",
    "y = credit['Class']\n",
    "\n",
    "x_train, x_test, y_train, y_test = train_test_split(x, y, random_state=5)\n",
    "\n",
    "print(x_train.shape, x_test.shape, y_train.shape, y_test.shape)"
   ]
  },
  {
   "cell_type": "code",
   "execution_count": 10,
   "metadata": {},
   "outputs": [
    {
     "name": "stdout",
     "output_type": "stream",
     "text": [
      "              precision    recall  f1-score   support\n",
      "\n",
      "           0       1.00      1.00      1.00       230\n",
      "           1       1.00      1.00      1.00       520\n",
      "\n",
      "   micro avg       1.00      1.00      1.00       750\n",
      "   macro avg       1.00      1.00      1.00       750\n",
      "weighted avg       1.00      1.00      1.00       750\n",
      "\n",
      "              precision    recall  f1-score   support\n",
      "\n",
      "           0       0.41      0.38      0.39        77\n",
      "           1       0.73      0.76      0.75       173\n",
      "\n",
      "   micro avg       0.64      0.64      0.64       250\n",
      "   macro avg       0.57      0.57      0.57       250\n",
      "weighted avg       0.64      0.64      0.64       250\n",
      "\n"
     ]
    }
   ],
   "source": [
    "model_1 = DecisionTreeClassifier()\n",
    "model_1.fit(x_train, y_train)\n",
    "\n",
    "y_predict_train_1 = model_1.predict(x_train)\n",
    "y_predict_test_1 = model_1.predict(x_test)\n",
    "\n",
    "print(classification_report(y_predict_train_1, y_train))\n",
    "print(classification_report(y_predict_test_1, y_test))"
   ]
  },
  {
   "cell_type": "code",
   "execution_count": 11,
   "metadata": {},
   "outputs": [
    {
     "data": {
      "text/plain": [
       "{'class_weight': None,\n",
       " 'criterion': 'gini',\n",
       " 'max_depth': None,\n",
       " 'max_features': None,\n",
       " 'max_leaf_nodes': None,\n",
       " 'min_impurity_decrease': 0.0,\n",
       " 'min_impurity_split': None,\n",
       " 'min_samples_leaf': 1,\n",
       " 'min_samples_split': 2,\n",
       " 'min_weight_fraction_leaf': 0.0,\n",
       " 'presort': False,\n",
       " 'random_state': None,\n",
       " 'splitter': 'best'}"
      ]
     },
     "execution_count": 11,
     "metadata": {},
     "output_type": "execute_result"
    }
   ],
   "source": [
    "DecisionTreeClassifier().get_params()"
   ]
  },
  {
   "cell_type": "code",
   "execution_count": 13,
   "metadata": {},
   "outputs": [
    {
     "name": "stdout",
     "output_type": "stream",
     "text": [
      "1.585358472665151\n"
     ]
    }
   ],
   "source": [
    "params = {'max_leaf_nodes': list(range(2, 100)),\n",
    "          'max_depth': list(range(2, 10)),\n",
    "          }\n",
    "\n",
    "grid_search = GridSearchCV(model_1, \n",
    "                          param_grid = params,\n",
    "                          cv = 10)\n",
    "start = time()\n",
    "grid_search.fit(x_train, y_train)\n",
    "print((time()-start)/60)"
   ]
  },
  {
   "cell_type": "code",
   "execution_count": 15,
   "metadata": {},
   "outputs": [
    {
     "data": {
      "text/plain": [
       "{'max_depth': 8, 'max_leaf_nodes': 13}"
      ]
     },
     "execution_count": 15,
     "metadata": {},
     "output_type": "execute_result"
    }
   ],
   "source": [
    "grid_search.best_params_"
   ]
  },
  {
   "cell_type": "code",
   "execution_count": 16,
   "metadata": {},
   "outputs": [
    {
     "name": "stdout",
     "output_type": "stream",
     "text": [
      "              precision    recall  f1-score   support\n",
      "\n",
      "           0       0.33      0.89      0.49        87\n",
      "           1       0.98      0.77      0.86       663\n",
      "\n",
      "   micro avg       0.78      0.78      0.78       750\n",
      "   macro avg       0.66      0.83      0.67       750\n",
      "weighted avg       0.91      0.78      0.82       750\n",
      "\n",
      "              precision    recall  f1-score   support\n",
      "\n",
      "           0       0.23      0.47      0.31        34\n",
      "           1       0.90      0.75      0.82       216\n",
      "\n",
      "   micro avg       0.71      0.71      0.71       250\n",
      "   macro avg       0.56      0.61      0.56       250\n",
      "weighted avg       0.81      0.71      0.75       250\n",
      "\n"
     ]
    }
   ],
   "source": [
    "model_2 = DecisionTreeClassifier(max_depth= 8, max_leaf_nodes= 13)\n",
    "model_2.fit(x_train, y_train)\n",
    "\n",
    "y_predict_train_2 = model_2.predict(x_train)\n",
    "y_predict_test_2 = model_2.predict(x_test)\n",
    "\n",
    "print(classification_report(y_predict_train_2, y_train))\n",
    "print(classification_report(y_predict_test_2, y_test))"
   ]
  },
  {
   "cell_type": "markdown",
   "metadata": {},
   "source": [
    "Lets check the hyperparameter individually."
   ]
  },
  {
   "cell_type": "code",
   "execution_count": 18,
   "metadata": {},
   "outputs": [
    {
     "name": "stdout",
     "output_type": "stream",
     "text": [
      "0.016616984208424886\n"
     ]
    },
    {
     "data": {
      "image/png": "[encoded data removed]",
      "text/plain": [
       "<Figure size 432x288 with 1 Axes>"
      ]
     },
     "metadata": {
      "needs_background": "light"
     },
     "output_type": "display_data"
    }
   ],
   "source": [
    "max_leaf_nodes = list(range(2, 100))\n",
    "\n",
    "train_results = []\n",
    "test_results = []\n",
    "\n",
    "start = time()\n",
    "for max_leaf_node in max_leaf_nodes:\n",
    "    dt = DecisionTreeClassifier(max_leaf_nodes=max_leaf_node)\n",
    "    dt.fit(x_train, y_train)\n",
    "    train_pred = dt.predict(x_train)\n",
    "    false_positive_rate, true_positive_rate, thresholds = roc_curve(y_train, train_pred)\n",
    "    roc_auc = auc(false_positive_rate, true_positive_rate)\n",
    "    # Add auc score to previous train results\n",
    "    train_results.append(roc_auc)\n",
    "    y_pred = dt.predict(x_test)\n",
    "    false_positive_rate, true_positive_rate, thresholds = roc_curve(y_test, y_pred)\n",
    "    roc_auc = auc(false_positive_rate, true_positive_rate)\n",
    "    # Add auc score to previous test results\n",
    "    test_results.append(roc_auc)\n",
    "    \n",
    "print((time()-start)/60)\n",
    "\n",
    "from matplotlib.legend_handler import HandlerLine2D\n",
    "line1, = plt.plot(max_leaf_nodes, train_results, 'b', label='Train AUC')\n",
    "line2, = plt.plot(max_leaf_nodes, test_results, 'r', label='Test AUC')\n",
    "plt.legend(handler_map={line1: HandlerLine2D(numpoints=2)})\n",
    "plt.ylabel('AUC score')\n",
    "plt.xlabel('Max leaf nodes')\n",
    "plt.show()"
   ]
  },
  {
   "cell_type": "code",
   "execution_count": 19,
   "metadata": {},
   "outputs": [
    {
     "name": "stdout",
     "output_type": "stream",
     "text": [
      "0.006633349259694417\n"
     ]
    },
    {
     "data": {
      "image/png": "[encoded data removed]",
      "text/plain": [
       "<Figure size 432x288 with 1 Axes>"
      ]
     },
     "metadata": {
      "needs_background": "light"
     },
     "output_type": "display_data"
    }
   ],
   "source": [
    "max_depths = list(range(2, 32))\n",
    "\n",
    "train_results = []\n",
    "test_results = []\n",
    "\n",
    "from sklearn.metrics import roc_curve, auc\n",
    "\n",
    "start = time()\n",
    "for max_depth in max_depths:\n",
    "    dt = DecisionTreeClassifier(max_depth=max_depth)\n",
    "    dt.fit(x_train, y_train)\n",
    "    train_pred = dt.predict(x_train)\n",
    "    false_positive_rate, true_positive_rate, thresholds = roc_curve(y_train, train_pred)\n",
    "    roc_auc = auc(false_positive_rate, true_positive_rate)\n",
    "    train_results.append(roc_auc)\n",
    "    y_pred = dt.predict(x_test)\n",
    "    false_positive_rate, true_positive_rate, thresholds = roc_curve(y_test, y_pred)\n",
    "    roc_auc = auc(false_positive_rate, true_positive_rate)\n",
    "    test_results.append(roc_auc)\n",
    "    \n",
    "print((time()-start)/60)\n",
    "\n",
    "from matplotlib.legend_handler import HandlerLine2D\n",
    "line1, = plt.plot(max_depths, train_results, 'b', label='Train AUC')\n",
    "line2, = plt.plot(max_depths, test_results, 'r', label='Test AUC')\n",
    "plt.legend(handler_map={line1: HandlerLine2D(numpoints=2)})\n",
    "plt.ylabel('AUC score')\n",
    "plt.xlabel('Tree depth')\n",
    "plt.show()"
   ]
  },
  {
   "cell_type": "code",
   "execution_count": 20,
   "metadata": {},
   "outputs": [
    {
     "name": "stdout",
     "output_type": "stream",
     "text": [
      "0.0012333075205485026\n"
     ]
    },
    {
     "data": {
      "image/png": "[encoded data removed]",
      "text/plain": [
       "<Figure size 432x288 with 1 Axes>"
      ]
     },
     "metadata": {
      "needs_background": "light"
     },
     "output_type": "display_data"
    }
   ],
   "source": [
    "min_samples_splits = np.linspace(0.1, 1.0, 10, endpoint=True)\n",
    "\n",
    "train_results = []\n",
    "test_results = []\n",
    "\n",
    "start = time()\n",
    "for min_samples_split in min_samples_splits:\n",
    "    dt = DecisionTreeClassifier(min_samples_split=min_samples_split)\n",
    "    dt.fit(x_train, y_train)\n",
    "    train_pred = dt.predict(x_train)\n",
    "    false_positive_rate, true_positive_rate, thresholds =    roc_curve(y_train, train_pred)\n",
    "    roc_auc = auc(false_positive_rate, true_positive_rate)\n",
    "    train_results.append(roc_auc)\n",
    "    y_pred = dt.predict(x_test)\n",
    "    false_positive_rate, true_positive_rate, thresholds = roc_curve(y_test, y_pred)\n",
    "    roc_auc = auc(false_positive_rate, true_positive_rate)\n",
    "    test_results.append(roc_auc)\n",
    "    \n",
    "print((time()-start)/60)\n",
    "\n",
    "line1, = plt.plot(min_samples_splits, train_results, 'b', label='Train AUC')\n",
    "line2, = plt.plot(min_samples_splits, test_results, 'r', label='Test AUC')\n",
    "plt.legend(handler_map={line1: HandlerLine2D(numpoints=2)})\n",
    "plt.ylabel('AUC score')\n",
    "plt.xlabel('min samples split')\n",
    "plt.show()"
   ]
  },
  {
   "cell_type": "code",
   "execution_count": 21,
   "metadata": {},
   "outputs": [
    {
     "name": "stdout",
     "output_type": "stream",
     "text": [
      "1.9020020961761475\n"
     ]
    },
    {
     "data": {
      "image/png": "[encoded data removed]",
      "text/plain": [
       "<Figure size 432x288 with 1 Axes>"
      ]
     },
     "metadata": {
      "needs_background": "light"
     },
     "output_type": "display_data"
    }
   ],
   "source": [
    "min_samples_leafs = list(range(1,200))\n",
    "train_results = []\n",
    "test_results = []\n",
    "\n",
    "start = time()\n",
    "for min_samples_leaf in min_samples_leafs:\n",
    "    dt = DecisionTreeClassifier(min_samples_leaf=min_samples_leaf)\n",
    "    dt.fit(x_train, y_train)\n",
    "    train_pred = dt.predict(x_train)\n",
    "    false_positive_rate, true_positive_rate, thresholds = roc_curve(y_train, train_pred)\n",
    "    roc_auc = auc(false_positive_rate, true_positive_rate)\n",
    "    train_results.append(roc_auc)\n",
    "    y_pred = dt.predict(x_test)\n",
    "    false_positive_rate, true_positive_rate, thresholds = roc_curve(y_test, y_pred)\n",
    "    roc_auc = auc(false_positive_rate, true_positive_rate)\n",
    "    test_results.append(roc_auc)\n",
    "\n",
    "print(time()-start)\n",
    "from matplotlib.legend_handler import HandlerLine2D\n",
    "line1, = plt.plot(min_samples_leafs, train_results, 'b', label='Train AUC')\n",
    "line2, = plt.plot(min_samples_leafs, test_results, 'r', label='Test AUC')\n",
    "plt.legend(handler_map={line1: HandlerLine2D(numpoints=2)})\n",
    "plt.ylabel('AUC score')\n",
    "plt.xlabel('min samples leaf')\n",
    "plt.show()"
   ]
  },
  {
   "cell_type": "code",
   "execution_count": 23,
   "metadata": {},
   "outputs": [
    {
     "name": "stderr",
     "output_type": "stream",
     "text": [
      "C:\\Users\\Chaitanya\\Anaconda3\\lib\\site-packages\\sklearn\\model_selection\\_split.py:2053: FutureWarning: You should specify a value for 'cv' instead of relying on the default value. The default value will change from 3 to 5 in version 0.22.\n",
      "  warnings.warn(CV_WARNING, FutureWarning)\n"
     ]
    },
    {
     "name": "stdout",
     "output_type": "stream",
     "text": [
      "2.424528110027313\n"
     ]
    }
   ],
   "source": [
    "#model3\n",
    "params = {'max_leaf_nodes': list(range(40, 80)),\n",
    "          'max_depth': list(range(5, 15)),\n",
    "          'min_samples_split' : np.linspace(0.1, 0.4, 4, endpoint=True),\n",
    "          'min_samples_leaf' : list(range(50, 125))\n",
    "          }\n",
    "\n",
    "grid_search_2 = RandomizedSearchCV(model_1, \n",
    "                          param_distributions = params,\n",
    "                          n_iter = 5000,\n",
    "                          scoring=make_scorer(metrics.average_precision_score))\n",
    "start = time()\n",
    "model_3 = grid_search_2.fit(x_train, y_train)\n",
    "print((time()-start)/60)"
   ]
  },
  {
   "cell_type": "code",
   "execution_count": 24,
   "metadata": {},
   "outputs": [
    {
     "name": "stderr",
     "output_type": "stream",
     "text": [
      "C:\\Users\\Chaitanya\\Anaconda3\\lib\\site-packages\\sklearn\\utils\\deprecation.py:125: FutureWarning: You are accessing a training score ('split0_train_score'), which will not be available by default any more in 0.21. If you need training scores, please set return_train_score=True\n",
      "  warnings.warn(*warn_args, **warn_kwargs)\n",
      "C:\\Users\\Chaitanya\\Anaconda3\\lib\\site-packages\\sklearn\\utils\\deprecation.py:125: FutureWarning: You are accessing a training score ('split1_train_score'), which will not be available by default any more in 0.21. If you need training scores, please set return_train_score=True\n",
      "  warnings.warn(*warn_args, **warn_kwargs)\n",
      "C:\\Users\\Chaitanya\\Anaconda3\\lib\\site-packages\\sklearn\\utils\\deprecation.py:125: FutureWarning: You are accessing a training score ('split2_train_score'), which will not be available by default any more in 0.21. If you need training scores, please set return_train_score=True\n",
      "  warnings.warn(*warn_args, **warn_kwargs)\n",
      "C:\\Users\\Chaitanya\\Anaconda3\\lib\\site-packages\\sklearn\\utils\\deprecation.py:125: FutureWarning: You are accessing a training score ('mean_train_score'), which will not be available by default any more in 0.21. If you need training scores, please set return_train_score=True\n",
      "  warnings.warn(*warn_args, **warn_kwargs)\n",
      "C:\\Users\\Chaitanya\\Anaconda3\\lib\\site-packages\\sklearn\\utils\\deprecation.py:125: FutureWarning: You are accessing a training score ('std_train_score'), which will not be available by default any more in 0.21. If you need training scores, please set return_train_score=True\n",
      "  warnings.warn(*warn_args, **warn_kwargs)\n"
     ]
    },
    {
     "data": {
      "text/html": [
       "<div>\n",
       "<style scoped>\n",
       "    .dataframe tbody tr th:only-of-type {\n",
       "        vertical-align: middle;\n",
       "    }\n",
       "\n",
       "    .dataframe tbody tr th {\n",
       "        vertical-align: top;\n",
       "    }\n",
       "\n",
       "    .dataframe thead th {\n",
       "        text-align: right;\n",
       "    }\n",
       "</style>\n",
       "<table border=\"1\" class=\"dataframe\">\n",
       "  <thead>\n",
       "    <tr style=\"text-align: right;\">\n",
       "      <th></th>\n",
       "      <th>mean_fit_time</th>\n",
       "      <th>std_fit_time</th>\n",
       "      <th>mean_score_time</th>\n",
       "      <th>std_score_time</th>\n",
       "      <th>param_min_samples_split</th>\n",
       "      <th>param_min_samples_leaf</th>\n",
       "      <th>param_max_leaf_nodes</th>\n",
       "      <th>param_max_depth</th>\n",
       "      <th>params</th>\n",
       "      <th>split0_test_score</th>\n",
       "      <th>split1_test_score</th>\n",
       "      <th>split2_test_score</th>\n",
       "      <th>mean_test_score</th>\n",
       "      <th>std_test_score</th>\n",
       "      <th>rank_test_score</th>\n",
       "      <th>split0_train_score</th>\n",
       "      <th>split1_train_score</th>\n",
       "      <th>split2_train_score</th>\n",
       "      <th>mean_train_score</th>\n",
       "      <th>std_train_score</th>\n",
       "    </tr>\n",
       "  </thead>\n",
       "  <tbody>\n",
       "    <tr>\n",
       "      <th>0</th>\n",
       "      <td>0.004999</td>\n",
       "      <td>0.001414</td>\n",
       "      <td>0.002668</td>\n",
       "      <td>0.000943</td>\n",
       "      <td>0.1</td>\n",
       "      <td>101</td>\n",
       "      <td>71</td>\n",
       "      <td>6</td>\n",
       "      <td>{'min_samples_split': 0.1, 'min_samples_leaf':...</td>\n",
       "      <td>0.774893</td>\n",
       "      <td>0.741963</td>\n",
       "      <td>0.753533</td>\n",
       "      <td>0.756824</td>\n",
       "      <td>0.013656</td>\n",
       "      <td>1</td>\n",
       "      <td>0.771019</td>\n",
       "      <td>0.770624</td>\n",
       "      <td>0.782200</td>\n",
       "      <td>0.774614</td>\n",
       "      <td>0.005366</td>\n",
       "    </tr>\n",
       "    <tr>\n",
       "      <th>1</th>\n",
       "      <td>0.006334</td>\n",
       "      <td>0.000944</td>\n",
       "      <td>0.003332</td>\n",
       "      <td>0.000471</td>\n",
       "      <td>0.2</td>\n",
       "      <td>88</td>\n",
       "      <td>45</td>\n",
       "      <td>13</td>\n",
       "      <td>{'min_samples_split': 0.2, 'min_samples_leaf':...</td>\n",
       "      <td>0.774893</td>\n",
       "      <td>0.741963</td>\n",
       "      <td>0.753533</td>\n",
       "      <td>0.756824</td>\n",
       "      <td>0.013656</td>\n",
       "      <td>1</td>\n",
       "      <td>0.771019</td>\n",
       "      <td>0.770624</td>\n",
       "      <td>0.782200</td>\n",
       "      <td>0.774614</td>\n",
       "      <td>0.005366</td>\n",
       "    </tr>\n",
       "    <tr>\n",
       "      <th>2</th>\n",
       "      <td>0.004334</td>\n",
       "      <td>0.001246</td>\n",
       "      <td>0.002666</td>\n",
       "      <td>0.000472</td>\n",
       "      <td>0.3</td>\n",
       "      <td>71</td>\n",
       "      <td>63</td>\n",
       "      <td>8</td>\n",
       "      <td>{'min_samples_split': 0.30000000000000004, 'mi...</td>\n",
       "      <td>0.715988</td>\n",
       "      <td>0.741963</td>\n",
       "      <td>0.721787</td>\n",
       "      <td>0.726572</td>\n",
       "      <td>0.011138</td>\n",
       "      <td>4133</td>\n",
       "      <td>0.750063</td>\n",
       "      <td>0.770624</td>\n",
       "      <td>0.744083</td>\n",
       "      <td>0.754923</td>\n",
       "      <td>0.011367</td>\n",
       "    </tr>\n",
       "    <tr>\n",
       "      <th>3</th>\n",
       "      <td>0.004667</td>\n",
       "      <td>0.000943</td>\n",
       "      <td>0.002332</td>\n",
       "      <td>0.000471</td>\n",
       "      <td>0.4</td>\n",
       "      <td>77</td>\n",
       "      <td>42</td>\n",
       "      <td>6</td>\n",
       "      <td>{'min_samples_split': 0.4, 'min_samples_leaf':...</td>\n",
       "      <td>0.715988</td>\n",
       "      <td>0.741963</td>\n",
       "      <td>0.753533</td>\n",
       "      <td>0.737111</td>\n",
       "      <td>0.015707</td>\n",
       "      <td>2725</td>\n",
       "      <td>0.750063</td>\n",
       "      <td>0.770624</td>\n",
       "      <td>0.782200</td>\n",
       "      <td>0.767629</td>\n",
       "      <td>0.013290</td>\n",
       "    </tr>\n",
       "    <tr>\n",
       "      <th>4</th>\n",
       "      <td>0.004334</td>\n",
       "      <td>0.000471</td>\n",
       "      <td>0.002334</td>\n",
       "      <td>0.000471</td>\n",
       "      <td>0.4</td>\n",
       "      <td>112</td>\n",
       "      <td>64</td>\n",
       "      <td>8</td>\n",
       "      <td>{'min_samples_split': 0.4, 'min_samples_leaf':...</td>\n",
       "      <td>0.774893</td>\n",
       "      <td>0.741963</td>\n",
       "      <td>0.753533</td>\n",
       "      <td>0.756824</td>\n",
       "      <td>0.013656</td>\n",
       "      <td>1</td>\n",
       "      <td>0.771019</td>\n",
       "      <td>0.770624</td>\n",
       "      <td>0.782200</td>\n",
       "      <td>0.774614</td>\n",
       "      <td>0.005366</td>\n",
       "    </tr>\n",
       "  </tbody>\n",
       "</table>\n",
       "</div>"
      ],
      "text/plain": [
       "   mean_fit_time  std_fit_time  mean_score_time  std_score_time  \\\n",
       "0       0.004999      0.001414         0.002668        0.000943   \n",
       "1       0.006334      0.000944         0.003332        0.000471   \n",
       "2       0.004334      0.001246         0.002666        0.000472   \n",
       "3       0.004667      0.000943         0.002332        0.000471   \n",
       "4       0.004334      0.000471         0.002334        0.000471   \n",
       "\n",
       "  param_min_samples_split param_min_samples_leaf param_max_leaf_nodes  \\\n",
       "0                     0.1                    101                   71   \n",
       "1                     0.2                     88                   45   \n",
       "2                     0.3                     71                   63   \n",
       "3                     0.4                     77                   42   \n",
       "4                     0.4                    112                   64   \n",
       "\n",
       "  param_max_depth                                             params  \\\n",
       "0               6  {'min_samples_split': 0.1, 'min_samples_leaf':...   \n",
       "1              13  {'min_samples_split': 0.2, 'min_samples_leaf':...   \n",
       "2               8  {'min_samples_split': 0.30000000000000004, 'mi...   \n",
       "3               6  {'min_samples_split': 0.4, 'min_samples_leaf':...   \n",
       "4               8  {'min_samples_split': 0.4, 'min_samples_leaf':...   \n",
       "\n",
       "   split0_test_score  split1_test_score  split2_test_score  mean_test_score  \\\n",
       "0           0.774893           0.741963           0.753533         0.756824   \n",
       "1           0.774893           0.741963           0.753533         0.756824   \n",
       "2           0.715988           0.741963           0.721787         0.726572   \n",
       "3           0.715988           0.741963           0.753533         0.737111   \n",
       "4           0.774893           0.741963           0.753533         0.756824   \n",
       "\n",
       "   std_test_score  rank_test_score  split0_train_score  split1_train_score  \\\n",
       "0        0.013656                1            0.771019            0.770624   \n",
       "1        0.013656                1            0.771019            0.770624   \n",
       "2        0.011138             4133            0.750063            0.770624   \n",
       "3        0.015707             2725            0.750063            0.770624   \n",
       "4        0.013656                1            0.771019            0.770624   \n",
       "\n",
       "   split2_train_score  mean_train_score  std_train_score  \n",
       "0            0.782200          0.774614         0.005366  \n",
       "1            0.782200          0.774614         0.005366  \n",
       "2            0.744083          0.754923         0.011367  \n",
       "3            0.782200          0.767629         0.013290  \n",
       "4            0.782200          0.774614         0.005366  "
      ]
     },
     "execution_count": 24,
     "metadata": {},
     "output_type": "execute_result"
    }
   ],
   "source": [
    "results_3 = pd.DataFrame(model_3.cv_results_).dropna()\n",
    "results_3.head()"
   ]
  },
  {
   "cell_type": "code",
   "execution_count": 25,
   "metadata": {},
   "outputs": [
    {
     "name": "stdout",
     "output_type": "stream",
     "text": [
      "<class 'pandas.core.frame.DataFrame'>\n",
      "Int64Index: 5000 entries, 0 to 4999\n",
      "Data columns (total 20 columns):\n",
      "mean_fit_time              5000 non-null float64\n",
      "std_fit_time               5000 non-null float64\n",
      "mean_score_time            5000 non-null float64\n",
      "std_score_time             5000 non-null float64\n",
      "param_min_samples_split    5000 non-null object\n",
      "param_min_samples_leaf     5000 non-null object\n",
      "param_max_leaf_nodes       5000 non-null object\n",
      "param_max_depth            5000 non-null object\n",
      "params                     5000 non-null object\n",
      "split0_test_score          5000 non-null float64\n",
      "split1_test_score          5000 non-null float64\n",
      "split2_test_score          5000 non-null float64\n",
      "mean_test_score            5000 non-null float64\n",
      "std_test_score             5000 non-null float64\n",
      "rank_test_score            5000 non-null int32\n",
      "split0_train_score         5000 non-null float64\n",
      "split1_train_score         5000 non-null float64\n",
      "split2_train_score         5000 non-null float64\n",
      "mean_train_score           5000 non-null float64\n",
      "std_train_score            5000 non-null float64\n",
      "dtypes: float64(14), int32(1), object(5)\n",
      "memory usage: 800.8+ KB\n"
     ]
    }
   ],
   "source": [
    "results_3.info()"
   ]
  },
  {
   "cell_type": "code",
   "execution_count": 32,
   "metadata": {},
   "outputs": [
    {
     "data": {
      "text/html": [
       "<div>\n",
       "<style scoped>\n",
       "    .dataframe tbody tr th:only-of-type {\n",
       "        vertical-align: middle;\n",
       "    }\n",
       "\n",
       "    .dataframe tbody tr th {\n",
       "        vertical-align: top;\n",
       "    }\n",
       "\n",
       "    .dataframe thead th {\n",
       "        text-align: right;\n",
       "    }\n",
       "</style>\n",
       "<table border=\"1\" class=\"dataframe\">\n",
       "  <thead>\n",
       "    <tr style=\"text-align: right;\">\n",
       "      <th></th>\n",
       "      <th>mean_fit_time</th>\n",
       "      <th>std_fit_time</th>\n",
       "      <th>mean_score_time</th>\n",
       "      <th>std_score_time</th>\n",
       "      <th>param_min_samples_split</th>\n",
       "      <th>param_min_samples_leaf</th>\n",
       "      <th>param_max_leaf_nodes</th>\n",
       "      <th>param_max_depth</th>\n",
       "      <th>params</th>\n",
       "      <th>split0_test_score</th>\n",
       "      <th>split1_test_score</th>\n",
       "      <th>split2_test_score</th>\n",
       "      <th>mean_test_score</th>\n",
       "      <th>std_test_score</th>\n",
       "      <th>rank_test_score</th>\n",
       "      <th>split0_train_score</th>\n",
       "      <th>split1_train_score</th>\n",
       "      <th>split2_train_score</th>\n",
       "      <th>mean_train_score</th>\n",
       "      <th>std_train_score</th>\n",
       "    </tr>\n",
       "  </thead>\n",
       "  <tbody>\n",
       "    <tr>\n",
       "      <th>0</th>\n",
       "      <td>0.004999</td>\n",
       "      <td>1.413943e-03</td>\n",
       "      <td>0.002668</td>\n",
       "      <td>9.428531e-04</td>\n",
       "      <td>0.1</td>\n",
       "      <td>101</td>\n",
       "      <td>71</td>\n",
       "      <td>6</td>\n",
       "      <td>{'min_samples_split': 0.1, 'min_samples_leaf':...</td>\n",
       "      <td>0.774893</td>\n",
       "      <td>0.741963</td>\n",
       "      <td>0.753533</td>\n",
       "      <td>0.756824</td>\n",
       "      <td>0.013656</td>\n",
       "      <td>1</td>\n",
       "      <td>0.771019</td>\n",
       "      <td>0.770624</td>\n",
       "      <td>0.7822</td>\n",
       "      <td>0.774614</td>\n",
       "      <td>0.005366</td>\n",
       "    </tr>\n",
       "    <tr>\n",
       "      <th>1</th>\n",
       "      <td>0.006334</td>\n",
       "      <td>9.438084e-04</td>\n",
       "      <td>0.003332</td>\n",
       "      <td>4.712018e-04</td>\n",
       "      <td>0.2</td>\n",
       "      <td>88</td>\n",
       "      <td>45</td>\n",
       "      <td>13</td>\n",
       "      <td>{'min_samples_split': 0.2, 'min_samples_leaf':...</td>\n",
       "      <td>0.774893</td>\n",
       "      <td>0.741963</td>\n",
       "      <td>0.753533</td>\n",
       "      <td>0.756824</td>\n",
       "      <td>0.013656</td>\n",
       "      <td>1</td>\n",
       "      <td>0.771019</td>\n",
       "      <td>0.770624</td>\n",
       "      <td>0.7822</td>\n",
       "      <td>0.774614</td>\n",
       "      <td>0.005366</td>\n",
       "    </tr>\n",
       "    <tr>\n",
       "      <th>4</th>\n",
       "      <td>0.004334</td>\n",
       "      <td>4.709211e-04</td>\n",
       "      <td>0.002334</td>\n",
       "      <td>4.710364e-04</td>\n",
       "      <td>0.4</td>\n",
       "      <td>112</td>\n",
       "      <td>64</td>\n",
       "      <td>8</td>\n",
       "      <td>{'min_samples_split': 0.4, 'min_samples_leaf':...</td>\n",
       "      <td>0.774893</td>\n",
       "      <td>0.741963</td>\n",
       "      <td>0.753533</td>\n",
       "      <td>0.756824</td>\n",
       "      <td>0.013656</td>\n",
       "      <td>1</td>\n",
       "      <td>0.771019</td>\n",
       "      <td>0.770624</td>\n",
       "      <td>0.7822</td>\n",
       "      <td>0.774614</td>\n",
       "      <td>0.005366</td>\n",
       "    </tr>\n",
       "    <tr>\n",
       "      <th>5</th>\n",
       "      <td>0.004001</td>\n",
       "      <td>7.867412e-07</td>\n",
       "      <td>0.002665</td>\n",
       "      <td>4.703034e-04</td>\n",
       "      <td>0.2</td>\n",
       "      <td>95</td>\n",
       "      <td>53</td>\n",
       "      <td>7</td>\n",
       "      <td>{'min_samples_split': 0.2, 'min_samples_leaf':...</td>\n",
       "      <td>0.774893</td>\n",
       "      <td>0.741963</td>\n",
       "      <td>0.753533</td>\n",
       "      <td>0.756824</td>\n",
       "      <td>0.013656</td>\n",
       "      <td>1</td>\n",
       "      <td>0.771019</td>\n",
       "      <td>0.770624</td>\n",
       "      <td>0.7822</td>\n",
       "      <td>0.774614</td>\n",
       "      <td>0.005366</td>\n",
       "    </tr>\n",
       "    <tr>\n",
       "      <th>6</th>\n",
       "      <td>0.004000</td>\n",
       "      <td>1.123916e-07</td>\n",
       "      <td>0.002000</td>\n",
       "      <td>4.495664e-07</td>\n",
       "      <td>0.3</td>\n",
       "      <td>110</td>\n",
       "      <td>76</td>\n",
       "      <td>14</td>\n",
       "      <td>{'min_samples_split': 0.30000000000000004, 'mi...</td>\n",
       "      <td>0.774893</td>\n",
       "      <td>0.741963</td>\n",
       "      <td>0.753533</td>\n",
       "      <td>0.756824</td>\n",
       "      <td>0.013656</td>\n",
       "      <td>1</td>\n",
       "      <td>0.771019</td>\n",
       "      <td>0.770624</td>\n",
       "      <td>0.7822</td>\n",
       "      <td>0.774614</td>\n",
       "      <td>0.005366</td>\n",
       "    </tr>\n",
       "  </tbody>\n",
       "</table>\n",
       "</div>"
      ],
      "text/plain": [
       "   mean_fit_time  std_fit_time  mean_score_time  std_score_time  \\\n",
       "0       0.004999  1.413943e-03         0.002668    9.428531e-04   \n",
       "1       0.006334  9.438084e-04         0.003332    4.712018e-04   \n",
       "4       0.004334  4.709211e-04         0.002334    4.710364e-04   \n",
       "5       0.004001  7.867412e-07         0.002665    4.703034e-04   \n",
       "6       0.004000  1.123916e-07         0.002000    4.495664e-07   \n",
       "\n",
       "  param_min_samples_split param_min_samples_leaf param_max_leaf_nodes  \\\n",
       "0                     0.1                    101                   71   \n",
       "1                     0.2                     88                   45   \n",
       "4                     0.4                    112                   64   \n",
       "5                     0.2                     95                   53   \n",
       "6                     0.3                    110                   76   \n",
       "\n",
       "  param_max_depth                                             params  \\\n",
       "0               6  {'min_samples_split': 0.1, 'min_samples_leaf':...   \n",
       "1              13  {'min_samples_split': 0.2, 'min_samples_leaf':...   \n",
       "4               8  {'min_samples_split': 0.4, 'min_samples_leaf':...   \n",
       "5               7  {'min_samples_split': 0.2, 'min_samples_leaf':...   \n",
       "6              14  {'min_samples_split': 0.30000000000000004, 'mi...   \n",
       "\n",
       "   split0_test_score  split1_test_score  split2_test_score  mean_test_score  \\\n",
       "0           0.774893           0.741963           0.753533         0.756824   \n",
       "1           0.774893           0.741963           0.753533         0.756824   \n",
       "4           0.774893           0.741963           0.753533         0.756824   \n",
       "5           0.774893           0.741963           0.753533         0.756824   \n",
       "6           0.774893           0.741963           0.753533         0.756824   \n",
       "\n",
       "   std_test_score  rank_test_score  split0_train_score  split1_train_score  \\\n",
       "0        0.013656                1            0.771019            0.770624   \n",
       "1        0.013656                1            0.771019            0.770624   \n",
       "4        0.013656                1            0.771019            0.770624   \n",
       "5        0.013656                1            0.771019            0.770624   \n",
       "6        0.013656                1            0.771019            0.770624   \n",
       "\n",
       "   split2_train_score  mean_train_score  std_train_score  \n",
       "0              0.7822          0.774614         0.005366  \n",
       "1              0.7822          0.774614         0.005366  \n",
       "4              0.7822          0.774614         0.005366  \n",
       "5              0.7822          0.774614         0.005366  \n",
       "6              0.7822          0.774614         0.005366  "
      ]
     },
     "execution_count": 32,
     "metadata": {},
     "output_type": "execute_result"
    }
   ],
   "source": [
    "results_3_best = results_3[results_3['rank_test_score'] == results_3['rank_test_score'].min()]\n",
    "results_3_best.head()"
   ]
  },
  {
   "cell_type": "code",
   "execution_count": 30,
   "metadata": {},
   "outputs": [
    {
     "data": {
      "text/plain": [
       "{'min_samples_split': 0.1,\n",
       " 'min_samples_leaf': 101,\n",
       " 'max_leaf_nodes': 71,\n",
       " 'max_depth': 6}"
      ]
     },
     "execution_count": 30,
     "metadata": {},
     "output_type": "execute_result"
    }
   ],
   "source": [
    "model_3.best_params_"
   ]
  },
  {
   "cell_type": "code",
   "execution_count": 41,
   "metadata": {},
   "outputs": [
    {
     "name": "stdout",
     "output_type": "stream",
     "text": [
      "              precision    recall  f1-score   support\n",
      "\n",
      "           0       0.51      0.55      0.53       212\n",
      "           1       0.82      0.79      0.80       538\n",
      "\n",
      "   micro avg       0.72      0.72      0.72       750\n",
      "   macro avg       0.66      0.67      0.67       750\n",
      "weighted avg       0.73      0.72      0.73       750\n",
      "\n",
      "              precision    recall  f1-score   support\n",
      "\n",
      "           0       0.39      0.44      0.41        62\n",
      "           1       0.81      0.77      0.79       188\n",
      "\n",
      "   micro avg       0.69      0.69      0.69       250\n",
      "   macro avg       0.60      0.60      0.60       250\n",
      "weighted avg       0.70      0.69      0.69       250\n",
      "\n",
      "[[ 27  35]\n",
      " [ 43 145]]\n"
     ]
    }
   ],
   "source": [
    "best_model = DecisionTreeClassifier(\n",
    "            max_depth = 6,\n",
    "            max_leaf_nodes = 71,\n",
    "            min_samples_split = 0.1,\n",
    "            min_samples_leaf = 101)\n",
    "\n",
    "best_model.fit(x_train, y_train)\n",
    "\n",
    "y_predict_train_3 = best_model.predict(x_train)\n",
    "y_predict_test_3 = best_model.predict(x_test)\n",
    "\n",
    "print(classification_report(y_predict_train_3, y_train))\n",
    "print(classification_report(y_predict_test_3, y_test))\n",
    "print(confusion_matrix(y_predict_test_3, y_test))"
   ]
  },
  {
   "cell_type": "code",
   "execution_count": 35,
   "metadata": {},
   "outputs": [
    {
     "data": {
      "image/png": "[encoded data removed]",
      "text/plain": [
       "<Figure size 864x720 with 4 Axes>"
      ]
     },
     "metadata": {
      "needs_background": "light"
     },
     "output_type": "display_data"
    }
   ],
   "source": [
    "plt.subplots(2,2,figsize=(12,10))\n",
    "\n",
    "plt.subplot(2, 2, 1)\n",
    "plt.hist(results_3.mean_test_score)\n",
    "plt.title(\"Score distribution\")\n",
    "plt.xlabel(\"Tree score\")\n",
    "plt.ylabel(\"Frequencey\")\n",
    "\n",
    "plt.subplot(2, 2, 2)\n",
    "plt.scatter(results_3.param_max_depth, results_3.mean_test_score, s=5)\n",
    "plt.xlabel(\"Max depth\")\n",
    "plt.ylabel(\"Mean score\")\n",
    "plt.title(\"Max tree depth vs score\")\n",
    "\n",
    "plt.subplot(2, 2, 3)\n",
    "plt.scatter(results_3.param_max_leaf_nodes, results_3.mean_test_score, s=5)\n",
    "plt.xlabel(\"Max leaf nodes\")\n",
    "plt.ylabel(\"Mean score\")\n",
    "plt.title(\"Max leaf nodes vs score\")\n",
    "\n",
    "plt.subplot(2, 2, 4)\n",
    "plt.scatter(results_3.param_min_samples_split, results_3.mean_test_score, s=5)\n",
    "plt.xlabel(\"Min. sample splits\")\n",
    "plt.ylabel(\"Mean score\")\n",
    "plt.title(\"Minimum sample splits\")\n",
    "\n",
    "plt.tight_layout()\n",
    "plt.show()"
   ]
  },
  {
   "cell_type": "markdown",
   "metadata": {},
   "source": [
    "### After you've built the best model you can, now it's time to visualize it!"
   ]
  },
  {
   "cell_type": "markdown",
   "metadata": {},
   "source": [
    "Rememeber that amazing blog post from a few paragraphs ago, that demonstrated how to visualize and interpret the results of your Decision Tree model. We've seen that this can perform very well, but let's see how it does on the \"German Credit\" dataset that we're working on, due to it being a bit larger than the one used by the blog authors."
   ]
  },
  {
   "cell_type": "markdown",
   "metadata": {},
   "source": [
    "First, we're going to need to install their package. If you're using Anaconda, this can be done easily by running:"
   ]
  },
  {
   "cell_type": "markdown",
   "metadata": {},
   "source": [
    "If for any reason this way of installing doesn't work for you straight out of the box, please refer to the more detailed documentation here: https://github.com/parrt/dtreeviz"
   ]
  },
  {
   "cell_type": "markdown",
   "metadata": {},
   "source": [
    "Now you're ready to visualize your Decision Tree model! Please feel free to use the blog post for guidance and inspiration!"
   ]
  },
  {
   "cell_type": "code",
   "execution_count": 36,
   "metadata": {},
   "outputs": [
    {
     "data": {
      "text/plain": [
       "\"\\nx = credit.drop(['Class'], axis = 1)\\ny = credit['Class']\\n\\ntarget_names = np.array(['Bad credit', 'Good credit'])\\nfeature_names = np.array(list(x))\\n\""
      ]
     },
     "execution_count": 36,
     "metadata": {},
     "output_type": "execute_result"
    }
   ],
   "source": [
    "'''\n",
    "x = credit.drop(['Class'], axis = 1)\n",
    "y = credit['Class']\n",
    "\n",
    "target_names = np.array(['Bad credit', 'Good credit'])\n",
    "feature_names = np.array(list(x))\n",
    "'''"
   ]
  },
  {
   "cell_type": "code",
   "execution_count": 37,
   "metadata": {},
   "outputs": [
    {
     "data": {
      "text/plain": [
       "\"from dtreeviz.trees import dtreeviz\\n\\nviz = dtreeviz(best_model_2,\\n             x,\\n             y,\\n             target_name = 'Credit',\\n             feature_names=feature_names,\\n             class_names=list(target_names)\\n             )\\n\""
      ]
     },
     "execution_count": 37,
     "metadata": {},
     "output_type": "execute_result"
    }
   ],
   "source": [
    "'''from dtreeviz.trees import dtreeviz\n",
    "\n",
    "viz = dtreeviz(best_model_2,\n",
    "             x,\n",
    "             y,\n",
    "             target_name = 'Credit',\n",
    "             feature_names=feature_names,\n",
    "             class_names=list(target_names)\n",
    "             )\n",
    "'''"
   ]
  },
  {
   "cell_type": "markdown",
   "metadata": {},
   "source": [
    "## Random Forests"
   ]
  },
  {
   "cell_type": "code",
   "execution_count": 38,
   "metadata": {},
   "outputs": [],
   "source": [
    "from sklearn.ensemble import RandomForestClassifier"
   ]
  },
  {
   "cell_type": "code",
   "execution_count": 39,
   "metadata": {},
   "outputs": [
    {
     "data": {
      "text/plain": [
       "{'bootstrap': True,\n",
       " 'class_weight': None,\n",
       " 'criterion': 'gini',\n",
       " 'max_depth': None,\n",
       " 'max_features': 'auto',\n",
       " 'max_leaf_nodes': None,\n",
       " 'min_impurity_decrease': 0.0,\n",
       " 'min_impurity_split': None,\n",
       " 'min_samples_leaf': 1,\n",
       " 'min_samples_split': 2,\n",
       " 'min_weight_fraction_leaf': 0.0,\n",
       " 'n_estimators': 'warn',\n",
       " 'n_jobs': None,\n",
       " 'oob_score': False,\n",
       " 'random_state': None,\n",
       " 'verbose': 0,\n",
       " 'warm_start': False}"
      ]
     },
     "execution_count": 39,
     "metadata": {},
     "output_type": "execute_result"
    }
   ],
   "source": [
    "RandomForestClassifier().get_params()"
   ]
  },
  {
   "cell_type": "code",
   "execution_count": 40,
   "metadata": {
    "scrolled": true
   },
   "outputs": [
    {
     "name": "stderr",
     "output_type": "stream",
     "text": [
      "C:\\Users\\Chaitanya\\Anaconda3\\lib\\site-packages\\sklearn\\model_selection\\_split.py:2053: FutureWarning: You should specify a value for 'cv' instead of relying on the default value. The default value will change from 3 to 5 in version 0.22.\n",
      "  warnings.warn(CV_WARNING, FutureWarning)\n"
     ]
    },
    {
     "name": "stdout",
     "output_type": "stream",
     "text": [
      "RandomizedSearchCV took 11 min. for 1000 candidate parameter settings.\n"
     ]
    }
   ],
   "source": [
    "forrest = RandomForestClassifier(n_estimators=100)\n",
    "\n",
    "# hyperparameter distributions\n",
    "param_dist = {}\n",
    "param_dist = {'max_depth': range(6, 12),\n",
    "              'max_leaf_nodes': range(4,100),\n",
    "              'min_samples_leaf': range(1,200)\n",
    "              }\n",
    "\n",
    "# search settings\n",
    "n_iter_search = 1000\n",
    "#num_jobs = 14\n",
    "\n",
    "# set up random search with average precision-recall scorer\n",
    "model_4 = RandomizedSearchCV(forrest, \n",
    "                             param_distributions=param_dist, \n",
    "                             scoring=make_scorer(metrics.average_precision_score),\n",
    "                             n_iter = n_iter_search\n",
    "                             )\n",
    "# run and time search\n",
    "start = time()\n",
    "                             \n",
    "model_4.fit(x_train, y_train)\n",
    "print(\"RandomizedSearchCV took %.f min. for %d candidate\"\n",
    "      \" parameter settings.\" % (((time() - start)/60), n_iter_search))"
   ]
  },
  {
   "cell_type": "code",
   "execution_count": 42,
   "metadata": {},
   "outputs": [
    {
     "name": "stderr",
     "output_type": "stream",
     "text": [
      "C:\\Users\\Chaitanya\\Anaconda3\\lib\\site-packages\\sklearn\\utils\\deprecation.py:125: FutureWarning: You are accessing a training score ('split0_train_score'), which will not be available by default any more in 0.21. If you need training scores, please set return_train_score=True\n",
      "  warnings.warn(*warn_args, **warn_kwargs)\n",
      "C:\\Users\\Chaitanya\\Anaconda3\\lib\\site-packages\\sklearn\\utils\\deprecation.py:125: FutureWarning: You are accessing a training score ('split1_train_score'), which will not be available by default any more in 0.21. If you need training scores, please set return_train_score=True\n",
      "  warnings.warn(*warn_args, **warn_kwargs)\n",
      "C:\\Users\\Chaitanya\\Anaconda3\\lib\\site-packages\\sklearn\\utils\\deprecation.py:125: FutureWarning: You are accessing a training score ('split2_train_score'), which will not be available by default any more in 0.21. If you need training scores, please set return_train_score=True\n",
      "  warnings.warn(*warn_args, **warn_kwargs)\n",
      "C:\\Users\\Chaitanya\\Anaconda3\\lib\\site-packages\\sklearn\\utils\\deprecation.py:125: FutureWarning: You are accessing a training score ('mean_train_score'), which will not be available by default any more in 0.21. If you need training scores, please set return_train_score=True\n",
      "  warnings.warn(*warn_args, **warn_kwargs)\n",
      "C:\\Users\\Chaitanya\\Anaconda3\\lib\\site-packages\\sklearn\\utils\\deprecation.py:125: FutureWarning: You are accessing a training score ('std_train_score'), which will not be available by default any more in 0.21. If you need training scores, please set return_train_score=True\n",
      "  warnings.warn(*warn_args, **warn_kwargs)\n"
     ]
    },
    {
     "data": {
      "image/png": "[encoded data removed]",
      "text/plain": [
       "<Figure size 864x720 with 4 Axes>"
      ]
     },
     "metadata": {
      "needs_background": "light"
     },
     "output_type": "display_data"
    }
   ],
   "source": [
    "results_4 = pd.DataFrame(model_4.cv_results_).dropna()\n",
    "\n",
    "plt.subplots(2,2,figsize=(12,10))\n",
    "\n",
    "plt.rc('axes', titlesize=15)     # fontsize of the axes title\n",
    "plt.rc('axes', labelsize=15)    # fontsize of the x and y labels\n",
    "plt.rc('xtick', labelsize=15)    # fontsize of the tick labels\n",
    "plt.rc('ytick', labelsize=15)    # fontsize of the tick labels\n",
    "\n",
    "plt.subplot(2, 2, 1)\n",
    "plt.hist(results_4.mean_test_score)\n",
    "plt.title(\"Score distribution\")\n",
    "plt.xlabel(\"Tree score\")\n",
    "plt.ylabel(\"Frequencey\")\n",
    "\n",
    "plt.subplot(2, 2, 2)\n",
    "plt.scatter(results_4.param_max_depth, results_4.mean_test_score, s=5)\n",
    "plt.xlabel(\"Max depth\")\n",
    "plt.ylabel(\"Mean score\")\n",
    "plt.title(\"Max tree depth vs score\")\n",
    "\n",
    "plt.subplot(2, 2, 3)\n",
    "plt.scatter(results_4.param_max_leaf_nodes, results_4.mean_test_score, s=5)\n",
    "plt.xlabel(\"Max leaf nodes\")\n",
    "plt.ylabel(\"Mean score\")\n",
    "plt.title(\"Max leaf nodes vs score\")\n",
    "\n",
    "plt.subplot(2, 2, 4)\n",
    "plt.scatter(results_4.param_min_samples_leaf, results_4.mean_test_score, s=5)\n",
    "plt.xlabel(\"Min. sample leaf\")\n",
    "plt.ylabel(\"Mean score\")\n",
    "plt.title(\"Minimum sample leaf\")\n",
    "\n",
    "plt.tight_layout()\n",
    "plt.show()"
   ]
  },
  {
   "cell_type": "code",
   "execution_count": 43,
   "metadata": {},
   "outputs": [
    {
     "data": {
      "text/html": [
       "<div>\n",
       "<style scoped>\n",
       "    .dataframe tbody tr th:only-of-type {\n",
       "        vertical-align: middle;\n",
       "    }\n",
       "\n",
       "    .dataframe tbody tr th {\n",
       "        vertical-align: top;\n",
       "    }\n",
       "\n",
       "    .dataframe thead th {\n",
       "        text-align: right;\n",
       "    }\n",
       "</style>\n",
       "<table border=\"1\" class=\"dataframe\">\n",
       "  <thead>\n",
       "    <tr style=\"text-align: right;\">\n",
       "      <th></th>\n",
       "      <th>mean_fit_time</th>\n",
       "      <th>std_fit_time</th>\n",
       "      <th>mean_score_time</th>\n",
       "      <th>std_score_time</th>\n",
       "      <th>param_min_samples_leaf</th>\n",
       "      <th>param_max_leaf_nodes</th>\n",
       "      <th>param_max_depth</th>\n",
       "      <th>params</th>\n",
       "      <th>split0_test_score</th>\n",
       "      <th>split1_test_score</th>\n",
       "      <th>split2_test_score</th>\n",
       "      <th>mean_test_score</th>\n",
       "      <th>std_test_score</th>\n",
       "      <th>rank_test_score</th>\n",
       "      <th>split0_train_score</th>\n",
       "      <th>split1_train_score</th>\n",
       "      <th>split2_train_score</th>\n",
       "      <th>mean_train_score</th>\n",
       "      <th>std_train_score</th>\n",
       "    </tr>\n",
       "  </thead>\n",
       "  <tbody>\n",
       "    <tr>\n",
       "      <th>963</th>\n",
       "      <td>0.243333</td>\n",
       "      <td>0.020272</td>\n",
       "      <td>0.015667</td>\n",
       "      <td>0.00047</td>\n",
       "      <td>1</td>\n",
       "      <td>87</td>\n",
       "      <td>11</td>\n",
       "      <td>{'min_samples_leaf': 1, 'max_leaf_nodes': 87, ...</td>\n",
       "      <td>0.746511</td>\n",
       "      <td>0.767356</td>\n",
       "      <td>0.766555</td>\n",
       "      <td>0.760114</td>\n",
       "      <td>0.009653</td>\n",
       "      <td>1</td>\n",
       "      <td>0.982955</td>\n",
       "      <td>0.977465</td>\n",
       "      <td>0.991429</td>\n",
       "      <td>0.983949</td>\n",
       "      <td>0.005744</td>\n",
       "    </tr>\n",
       "  </tbody>\n",
       "</table>\n",
       "</div>"
      ],
      "text/plain": [
       "     mean_fit_time  std_fit_time  mean_score_time  std_score_time  \\\n",
       "963       0.243333      0.020272         0.015667         0.00047   \n",
       "\n",
       "    param_min_samples_leaf param_max_leaf_nodes param_max_depth  \\\n",
       "963                      1                   87              11   \n",
       "\n",
       "                                                params  split0_test_score  \\\n",
       "963  {'min_samples_leaf': 1, 'max_leaf_nodes': 87, ...           0.746511   \n",
       "\n",
       "     split1_test_score  split2_test_score  mean_test_score  std_test_score  \\\n",
       "963           0.767356           0.766555         0.760114        0.009653   \n",
       "\n",
       "     rank_test_score  split0_train_score  split1_train_score  \\\n",
       "963                1            0.982955            0.977465   \n",
       "\n",
       "     split2_train_score  mean_train_score  std_train_score  \n",
       "963            0.991429          0.983949         0.005744  "
      ]
     },
     "execution_count": 43,
     "metadata": {},
     "output_type": "execute_result"
    }
   ],
   "source": [
    "results_best_4 = results_4[results_4['rank_test_score'] == results_4['rank_test_score'].min()]\n",
    "results_best_4"
   ]
  },
  {
   "cell_type": "code",
   "execution_count": 44,
   "metadata": {},
   "outputs": [
    {
     "name": "stdout",
     "output_type": "stream",
     "text": [
      "              precision    recall  f1-score   support\n",
      "\n",
      "           0       0.81      0.99      0.89       188\n",
      "           1       1.00      0.92      0.96       562\n",
      "\n",
      "   micro avg       0.94      0.94      0.94       750\n",
      "   macro avg       0.90      0.96      0.92       750\n",
      "weighted avg       0.95      0.94      0.94       750\n",
      "\n",
      "              precision    recall  f1-score   support\n",
      "\n",
      "           0       0.33      0.57      0.42        40\n",
      "           1       0.91      0.78      0.84       210\n",
      "\n",
      "   micro avg       0.74      0.74      0.74       250\n",
      "   macro avg       0.62      0.68      0.63       250\n",
      "weighted avg       0.81      0.74      0.77       250\n",
      "\n",
      "[[ 23  17]\n",
      " [ 47 163]]\n"
     ]
    }
   ],
   "source": [
    "model_best_4 = RandomForestClassifier(\n",
    "            max_depth=10,\n",
    "            max_leaf_nodes=93,\n",
    "            min_samples_leaf=2,\n",
    "            n_estimators=1000,\n",
    "            )\n",
    "\n",
    "model_best_4.fit(x_train, y_train)\n",
    "\n",
    "y_predict_train_4 = model_best_4.predict(x_train)\n",
    "y_predict_test_4 = model_best_4.predict(x_test)\n",
    "\n",
    "print(classification_report(y_predict_train_4, y_train))\n",
    "print(classification_report(y_predict_test_4, y_test))\n",
    "print(confusion_matrix(y_predict_test_4, y_test))"
   ]
  },
  {
   "cell_type": "markdown",
   "metadata": {},
   "source": [
    "As discussed in the lecture videos, Decision Tree algorithms also have certain undesireable properties. Mainly the have low bias, which is good, but tend to have high variance - which is *not* so good (more about this problem here: https://en.wikipedia.org/wiki/Bias%E2%80%93variance_tradeoff)."
   ]
  },
  {
   "cell_type": "markdown",
   "metadata": {},
   "source": [
    "Noticing these problems, the late Professor Leo Breiman, in 2001, developed the Random Forests algorithm, which mitigates these problems, while at the same time providing even higher predictive accuracy than the majority of Decision Tree algorithm implementations. While the curriculum contains two excellent lectures on Random Forests, if you're interested, you can dive into the original paper here: https://link.springer.com/content/pdf/10.1023%2FA%3A1010933404324.pdf."
   ]
  },
  {
   "cell_type": "markdown",
   "metadata": {},
   "source": [
    "In the next part of this assignment, your are going to use the same \"German Credit\" dataset to train, tune, and measure the performance of a Random Forests model. You will also see certain functionalities that this model, even though it's a bit of a \"black box\", provides for some degree of interpretability."
   ]
  },
  {
   "cell_type": "markdown",
   "metadata": {},
   "source": [
    "First, let's build a Random Forests model, using the same best practices that you've used for your Decision Trees model. You can reuse the things you've already imported there, so no need to do any re-imports, new train/test splits, or loading up the data again."
   ]
  },
  {
   "cell_type": "markdown",
   "metadata": {},
   "source": [
    "As mentioned, there are certain ways to \"peek\" into a model created by the Random Forests algorithm. The first, and most popular one, is the Feature Importance calculation functionality. This allows the ML practitioner to see an ordering of the importance of the features that have contributed the most to the predictive accuracy of the model. \n",
    "\n",
    "You can see how to use this in the scikit-learn documentation (http://scikit-learn.org/stable/modules/generated/sklearn.ensemble.RandomForestClassifier.html#sklearn.ensemble.RandomForestClassifier.feature_importances_). Now, if you tried this, you would just get an ordered table of not directly interpretable numeric values. Thus, it's much more useful to show the feature importance in a visual way. You can see an example of how that's done here: http://scikit-learn.org/stable/auto_examples/ensemble/plot_forest_importances.html#sphx-glr-auto-examples-ensemble-plot-forest-importances-py\n",
    "\n",
    "Now you try! Let's visualize the importance of features from your Random Forests model!"
   ]
  },
  {
   "cell_type": "markdown",
   "metadata": {},
   "source": [
    "A final method for gaining some insight into the inner working of your Random Forests models is a so-called Partial Dependence Plot. The Partial Dependence Plot (PDP or PD plot) shows the marginal effect of a feature on the predicted outcome of a previously fit model. The prediction function is fixed at a few values of the chosen features and averaged over the other features. A partial dependence plot can show if the relationship between the target and a feature is linear, monotonic or more complex. \n",
    "\n",
    "In scikit-learn, PDPs are implemented and available for certain algorithms, but at this point (version 0.20.0) they are not yet implemented for Random Forests. Thankfully, there is an add-on package called **PDPbox** (https://pdpbox.readthedocs.io/en/latest/) which adds this functionality to Random Forests. The package is easy to install through pip."
   ]
  },
  {
   "cell_type": "code",
   "execution_count": 45,
   "metadata": {},
   "outputs": [],
   "source": [
    "#! pip install pdpbox"
   ]
  },
  {
   "cell_type": "markdown",
   "metadata": {},
   "source": [
    "While we encourage you to read the documentation for the package (and reading package documentation in general is a good habit to develop), the authors of the package have also written an excellent blog post on how to use it, showing examples on different algorithms from scikit-learn (the Random Forests example is towards the end of the blog post): https://briangriner.github.io/Partial_Dependence_Plots_presentation-BrianGriner-PrincetonPublicLibrary-4.14.18-updated-4.22.18.html"
   ]
  },
  {
   "cell_type": "markdown",
   "metadata": {},
   "source": [
    "So, armed with this new knowledge, feel free to pick a few features, and make a couple of Partial Dependence Plots of your own!"
   ]
  },
  {
   "cell_type": "markdown",
   "metadata": {},
   "source": [
    "## (Optional) Advanced Boosting-Based Algorithms"
   ]
  },
  {
   "cell_type": "markdown",
   "metadata": {},
   "source": [
    "As explained in the video lectures, the next generation of algorithms after Random Forests (that use Bagging, a.k.a. Bootstrap Aggregation) were developed using Boosting, and the first one of these were Gradient Boosted Machines, which are implemented in scikit-learn (http://scikit-learn.org/stable/modules/ensemble.html#gradient-tree-boosting)."
   ]
  },
  {
   "cell_type": "markdown",
   "metadata": {},
   "source": [
    "Still, in recent years, a number of variations on GBMs have been developed by different research amd industry groups, all of them bringing improvements, both in speed, accuracy and functionality to the original Gradient Boosting algorithms.\n",
    "\n",
    "In no order of preference, these are:\n",
    "1. **XGBoost**: https://xgboost.readthedocs.io/en/latest/\n",
    "2. **CatBoost**: https://tech.yandex.com/catboost/\n",
    "3. **LightGBM**: https://lightgbm.readthedocs.io/en/latest/"
   ]
  },
  {
   "cell_type": "markdown",
   "metadata": {},
   "source": [
    "If you're using the Anaconda distribution, these are all very easy to install:"
   ]
  },
  {
   "cell_type": "markdown",
   "metadata": {},
   "source": [
    "Your task in this optional section of the mini project is to read the documentation of these three libraries, and apply all of them to the \"German Credit\" dataset, just like you did in the case of Decision Trees and Random Forests."
   ]
  },
  {
   "cell_type": "markdown",
   "metadata": {},
   "source": [
    "The final deliverable of this section should be a table (can be a pandas DataFrame) which shows the accuracy of all the five algorthms taught in this mini project in one place."
   ]
  },
  {
   "cell_type": "markdown",
   "metadata": {},
   "source": [
    "Happy modeling! :)"
   ]
  },
  {
   "cell_type": "code",
   "execution_count": 46,
   "metadata": {},
   "outputs": [],
   "source": [
    "from xgboost import XGBClassifier"
   ]
  },
  {
   "cell_type": "code",
   "execution_count": 47,
   "metadata": {},
   "outputs": [
    {
     "name": "stdout",
     "output_type": "stream",
     "text": [
      "              precision    recall  f1-score   support\n",
      "\n",
      "           0       1.00      1.00      1.00       230\n",
      "           1       1.00      1.00      1.00       520\n",
      "\n",
      "   micro avg       1.00      1.00      1.00       750\n",
      "   macro avg       1.00      1.00      1.00       750\n",
      "weighted avg       1.00      1.00      1.00       750\n",
      "\n",
      "              precision    recall  f1-score   support\n",
      "\n",
      "           0       0.49      0.50      0.49        68\n",
      "           1       0.81      0.80      0.81       182\n",
      "\n",
      "   micro avg       0.72      0.72      0.72       250\n",
      "   macro avg       0.65      0.65      0.65       250\n",
      "weighted avg       0.72      0.72      0.72       250\n",
      "\n",
      "[[ 34  34]\n",
      " [ 36 146]]\n",
      "0.006999937693277994\n"
     ]
    }
   ],
   "source": [
    "xgb_mod = XGBClassifier() \n",
    "\n",
    "start = time()\n",
    "xgb_mod.fit(x_train, y_train)\n",
    "\n",
    "y_predict_train_5 = xgb_mod.predict(x_train)\n",
    "y_predict_test_5 = xgb_mod.predict(x_test)\n",
    "\n",
    "print(classification_report(y_predict_train_5, y_train))\n",
    "print(classification_report(y_predict_test_5, y_test))\n",
    "print(confusion_matrix(y_predict_test_5, y_test))\n",
    "print((time()-start)/60)"
   ]
  },
  {
   "cell_type": "code",
   "execution_count": 48,
   "metadata": {},
   "outputs": [],
   "source": [
    "from catboost import CatBoostClassifier"
   ]
  },
  {
   "cell_type": "code",
   "execution_count": 49,
   "metadata": {},
   "outputs": [
    {
     "name": "stdout",
     "output_type": "stream",
     "text": [
      "              precision    recall  f1-score   support\n",
      "\n",
      "           0       0.94      1.00      0.97       218\n",
      "           1       1.00      0.98      0.99       532\n",
      "\n",
      "   micro avg       0.98      0.98      0.98       750\n",
      "   macro avg       0.97      0.99      0.98       750\n",
      "weighted avg       0.98      0.98      0.98       750\n",
      "\n",
      "              precision    recall  f1-score   support\n",
      "\n",
      "           0       0.41      0.52      0.46        56\n",
      "           1       0.85      0.79      0.82       194\n",
      "\n",
      "   micro avg       0.73      0.73      0.73       250\n",
      "   macro avg       0.63      0.65      0.64       250\n",
      "weighted avg       0.75      0.73      0.74       250\n",
      "\n",
      "[[ 29  27]\n",
      " [ 41 153]]\n",
      "0.08371663490931193\n"
     ]
    }
   ],
   "source": [
    "cat_model = CatBoostClassifier(silent=True) \n",
    "\n",
    "start = time()\n",
    "cat_model.fit(x_train, y_train)\n",
    "\n",
    "y_predict_train_6 = cat_model.predict(x_train)\n",
    "y_predict_test_6 = cat_model.predict(x_test)\n",
    "\n",
    "print(classification_report(y_predict_train_6, y_train))\n",
    "print(classification_report(y_predict_test_6, y_test))\n",
    "print(confusion_matrix(y_predict_test_6, y_test))\n",
    "print((time()-start)/60)"
   ]
  },
  {
   "cell_type": "code",
   "execution_count": 50,
   "metadata": {},
   "outputs": [],
   "source": [
    "from lightgbm import LGBMClassifier"
   ]
  },
  {
   "cell_type": "code",
   "execution_count": 51,
   "metadata": {},
   "outputs": [
    {
     "name": "stdout",
     "output_type": "stream",
     "text": [
      "              precision    recall  f1-score   support\n",
      "\n",
      "           0       1.00      1.00      1.00       230\n",
      "           1       1.00      1.00      1.00       520\n",
      "\n",
      "   micro avg       1.00      1.00      1.00       750\n",
      "   macro avg       1.00      1.00      1.00       750\n",
      "weighted avg       1.00      1.00      1.00       750\n",
      "\n",
      "              precision    recall  f1-score   support\n",
      "\n",
      "           0       0.47      0.49      0.48        68\n",
      "           1       0.81      0.80      0.80       182\n",
      "\n",
      "   micro avg       0.71      0.71      0.71       250\n",
      "   macro avg       0.64      0.64      0.64       250\n",
      "weighted avg       0.71      0.71      0.71       250\n",
      "\n",
      "[[ 33  35]\n",
      " [ 37 145]]\n",
      "0.004466561476389567\n"
     ]
    }
   ],
   "source": [
    "light_model = LGBMClassifier() \n",
    "\n",
    "start = time()\n",
    "light_model.fit(x_train, y_train)\n",
    "\n",
    "y_predict_train_7 = light_model.predict(x_train)\n",
    "y_predict_test_7 = light_model.predict(x_test)\n",
    "\n",
    "print(classification_report(y_predict_train_7, y_train))\n",
    "print(classification_report(y_predict_test_7, y_test))\n",
    "print(confusion_matrix(y_predict_test_7, y_test))\n",
    "print((time()-start)/60)"
   ]
  },
  {
   "cell_type": "code",
   "execution_count": null,
   "metadata": {},
   "outputs": [],
   "source": []
  }
 ],
 "metadata": {
  "kernelspec": {
   "display_name": "Python 3",
   "language": "python",
   "name": "python3"
  },
  "language_info": {
   "codemirror_mode": {
    "name": "ipython",
    "version": 3
   },
   "file_extension": ".py",
   "mimetype": "text/x-python",
   "name": "python",
   "nbconvert_exporter": "python",
   "pygments_lexer": "ipython3",
   "version": "3.6.8"
  }
 },
 "nbformat": 4,
 "nbformat_minor": 2
}
